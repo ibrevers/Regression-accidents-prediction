{
 "cells": [
  {
   "cell_type": "code",
   "execution_count": 3,
   "metadata": {},
   "outputs": [],
   "source": [
    "# Import libraries\n",
    "import pandas as pd\n",
    "import numpy as np\n",
    "from scipy import stats\n",
    "import matplotlib.pyplot as plt\n",
    "%matplotlib inline"
   ]
  },
  {
   "cell_type": "code",
   "execution_count": 4,
   "metadata": {},
   "outputs": [],
   "source": [
    "# Download information (source: Madrid City Council https://datos.madrid.es)\n",
    "!wget -q -O 'accidents.csv' https://datos.madrid.es/egob/catalogo/300228-18-accidentes-trafico-detalle.csv"
   ]
  },
  {
   "cell_type": "code",
   "execution_count": 5,
   "metadata": {},
   "outputs": [],
   "source": [
    "# Check the encoding of the csv\n",
    "#!pip install chardet\n",
    "#import chardet\n",
    "\n",
    "#with open(\"accidents.csv\", 'rb') as file:\n",
    "#    print(chardet.detect(file.read()))"
   ]
  },
  {
   "cell_type": "code",
   "execution_count": 6,
   "metadata": {},
   "outputs": [
    {
     "data": {
      "text/html": [
       "<div>\n",
       "<style scoped>\n",
       "    .dataframe tbody tr th:only-of-type {\n",
       "        vertical-align: middle;\n",
       "    }\n",
       "\n",
       "    .dataframe tbody tr th {\n",
       "        vertical-align: top;\n",
       "    }\n",
       "\n",
       "    .dataframe thead th {\n",
       "        text-align: right;\n",
       "    }\n",
       "</style>\n",
       "<table border=\"1\" class=\"dataframe\">\n",
       "  <thead>\n",
       "    <tr style=\"text-align: right;\">\n",
       "      <th></th>\n",
       "      <th>FECHA</th>\n",
       "      <th>RANGO HORARIO</th>\n",
       "      <th>DIA SEMANA</th>\n",
       "      <th>DISTRITO</th>\n",
       "      <th>LUGAR ACCIDENTE</th>\n",
       "      <th>Nº</th>\n",
       "      <th>Nº PARTE</th>\n",
       "      <th>CPFA Granizo</th>\n",
       "      <th>CPFA Hielo</th>\n",
       "      <th>CPFA Lluvia</th>\n",
       "      <th>...</th>\n",
       "      <th>CPSV Grava Suelta</th>\n",
       "      <th>CPSV Hielo</th>\n",
       "      <th>CPSV Seca Y Limpia</th>\n",
       "      <th>* Nº VICTIMAS</th>\n",
       "      <th>TIPO ACCIDENTE</th>\n",
       "      <th>Tipo Vehiculo</th>\n",
       "      <th>TIPO PERSONA</th>\n",
       "      <th>SEXO</th>\n",
       "      <th>LESIVIDAD</th>\n",
       "      <th>Tramo Edad</th>\n",
       "    </tr>\n",
       "  </thead>\n",
       "  <tbody>\n",
       "    <tr>\n",
       "      <th>0</th>\n",
       "      <td>01/01/2018</td>\n",
       "      <td>DE 00:00 A 00:59</td>\n",
       "      <td>LUNES</td>\n",
       "      <td>USERA</td>\n",
       "      <td>CALLE DE SAN BASILIO - CALLE DEL CRISTO DE LA ...</td>\n",
       "      <td>0</td>\n",
       "      <td>2018/1</td>\n",
       "      <td>NO</td>\n",
       "      <td>NO</td>\n",
       "      <td>NO</td>\n",
       "      <td>...</td>\n",
       "      <td>NO</td>\n",
       "      <td>NO</td>\n",
       "      <td>SI</td>\n",
       "      <td>1</td>\n",
       "      <td>ATROPELLO</td>\n",
       "      <td>NO ASIGNADO</td>\n",
       "      <td>PEATON</td>\n",
       "      <td>HOMBRE</td>\n",
       "      <td>HG</td>\n",
       "      <td>DE 15 A 17 AÑOS</td>\n",
       "    </tr>\n",
       "    <tr>\n",
       "      <th>1</th>\n",
       "      <td>01/01/2018</td>\n",
       "      <td>DE 00:00 A 00:59</td>\n",
       "      <td>LUNES</td>\n",
       "      <td>USERA</td>\n",
       "      <td>CALLE DE SAN BASILIO - CALLE DEL CRISTO DE LA ...</td>\n",
       "      <td>0</td>\n",
       "      <td>2018/1</td>\n",
       "      <td>NO</td>\n",
       "      <td>NO</td>\n",
       "      <td>NO</td>\n",
       "      <td>...</td>\n",
       "      <td>NO</td>\n",
       "      <td>NO</td>\n",
       "      <td>SI</td>\n",
       "      <td>1</td>\n",
       "      <td>ATROPELLO</td>\n",
       "      <td>NO ASIGNADO</td>\n",
       "      <td>TESTIGO</td>\n",
       "      <td>HOMBRE</td>\n",
       "      <td>IL</td>\n",
       "      <td>DE 30 A 34 ANOS</td>\n",
       "    </tr>\n",
       "    <tr>\n",
       "      <th>2</th>\n",
       "      <td>01/01/2018</td>\n",
       "      <td>DE 00:00 A 00:59</td>\n",
       "      <td>LUNES</td>\n",
       "      <td>USERA</td>\n",
       "      <td>CALLE DE SAN BASILIO - CALLE DEL CRISTO DE LA ...</td>\n",
       "      <td>0</td>\n",
       "      <td>2018/1</td>\n",
       "      <td>NO</td>\n",
       "      <td>NO</td>\n",
       "      <td>NO</td>\n",
       "      <td>...</td>\n",
       "      <td>NO</td>\n",
       "      <td>NO</td>\n",
       "      <td>SI</td>\n",
       "      <td>1</td>\n",
       "      <td>ATROPELLO</td>\n",
       "      <td>TURISMO</td>\n",
       "      <td>CONDUCTOR</td>\n",
       "      <td>HOMBRE</td>\n",
       "      <td>IL</td>\n",
       "      <td>DE 35 A 39 AÑOS</td>\n",
       "    </tr>\n",
       "    <tr>\n",
       "      <th>3</th>\n",
       "      <td>01/01/2018</td>\n",
       "      <td>DE 1:00 A 1:59</td>\n",
       "      <td>LUNES</td>\n",
       "      <td>HORTALEZA</td>\n",
       "      <td>AVENIDA DE FRANCISCO PI Y MARGALL - AVENIDA DE...</td>\n",
       "      <td></td>\n",
       "      <td>2018/3</td>\n",
       "      <td>NO</td>\n",
       "      <td>NO</td>\n",
       "      <td>NO</td>\n",
       "      <td>...</td>\n",
       "      <td>NO</td>\n",
       "      <td>NO</td>\n",
       "      <td>SI</td>\n",
       "      <td>1</td>\n",
       "      <td>CHOQUE CON OBJETO FIJO</td>\n",
       "      <td>NO ASIGNADO</td>\n",
       "      <td>TESTIGO</td>\n",
       "      <td>HOMBRE</td>\n",
       "      <td>IL</td>\n",
       "      <td>DE 21 A 24 AÑOS</td>\n",
       "    </tr>\n",
       "    <tr>\n",
       "      <th>4</th>\n",
       "      <td>01/01/2018</td>\n",
       "      <td>DE 1:00 A 1:59</td>\n",
       "      <td>LUNES</td>\n",
       "      <td>HORTALEZA</td>\n",
       "      <td>AVENIDA DE FRANCISCO PI Y MARGALL - AVENIDA DE...</td>\n",
       "      <td></td>\n",
       "      <td>2018/3</td>\n",
       "      <td>NO</td>\n",
       "      <td>NO</td>\n",
       "      <td>NO</td>\n",
       "      <td>...</td>\n",
       "      <td>NO</td>\n",
       "      <td>NO</td>\n",
       "      <td>SI</td>\n",
       "      <td>1</td>\n",
       "      <td>CHOQUE CON OBJETO FIJO</td>\n",
       "      <td>NO ASIGNADO</td>\n",
       "      <td>TESTIGO</td>\n",
       "      <td>MUJER</td>\n",
       "      <td>IL</td>\n",
       "      <td>DE 40 A 44 AÑOS</td>\n",
       "    </tr>\n",
       "  </tbody>\n",
       "</table>\n",
       "<p>5 rows × 26 columns</p>\n",
       "</div>"
      ],
      "text/plain": [
       "        FECHA     RANGO HORARIO DIA SEMANA                        DISTRITO  \\\n",
       "0  01/01/2018  DE 00:00 A 00:59      LUNES  USERA                            \n",
       "1  01/01/2018  DE 00:00 A 00:59      LUNES  USERA                            \n",
       "2  01/01/2018  DE 00:00 A 00:59      LUNES  USERA                            \n",
       "3  01/01/2018    DE 1:00 A 1:59      LUNES  HORTALEZA                        \n",
       "4  01/01/2018    DE 1:00 A 1:59      LUNES  HORTALEZA                        \n",
       "\n",
       "                                     LUGAR ACCIDENTE          Nº Nº PARTE  \\\n",
       "0  CALLE DE SAN BASILIO - CALLE DEL CRISTO DE LA ...           0   2018/1   \n",
       "1  CALLE DE SAN BASILIO - CALLE DEL CRISTO DE LA ...           0   2018/1   \n",
       "2  CALLE DE SAN BASILIO - CALLE DEL CRISTO DE LA ...           0   2018/1   \n",
       "3  AVENIDA DE FRANCISCO PI Y MARGALL - AVENIDA DE...               2018/3   \n",
       "4  AVENIDA DE FRANCISCO PI Y MARGALL - AVENIDA DE...               2018/3   \n",
       "\n",
       "  CPFA Granizo CPFA Hielo CPFA Lluvia  ... CPSV Grava Suelta CPSV Hielo  \\\n",
       "0           NO         NO          NO  ...                NO         NO   \n",
       "1           NO         NO          NO  ...                NO         NO   \n",
       "2           NO         NO          NO  ...                NO         NO   \n",
       "3           NO         NO          NO  ...                NO         NO   \n",
       "4           NO         NO          NO  ...                NO         NO   \n",
       "\n",
       "  CPSV Seca Y Limpia * Nº VICTIMAS                            TIPO ACCIDENTE  \\\n",
       "0                 SI             1  ATROPELLO                                  \n",
       "1                 SI             1  ATROPELLO                                  \n",
       "2                 SI             1  ATROPELLO                                  \n",
       "3                 SI             1  CHOQUE CON OBJETO FIJO                     \n",
       "4                 SI             1  CHOQUE CON OBJETO FIJO                     \n",
       "\n",
       "                              Tipo Vehiculo  \\\n",
       "0                               NO ASIGNADO   \n",
       "1                               NO ASIGNADO   \n",
       "2  TURISMO                                    \n",
       "3                               NO ASIGNADO   \n",
       "4                               NO ASIGNADO   \n",
       "\n",
       "                               TIPO PERSONA    SEXO  \\\n",
       "0  PEATON                                    HOMBRE   \n",
       "1  TESTIGO                                   HOMBRE   \n",
       "2                                 CONDUCTOR  HOMBRE   \n",
       "3  TESTIGO                                   HOMBRE   \n",
       "4  TESTIGO                                    MUJER   \n",
       "\n",
       "                                  LESIVIDAD       Tramo Edad  \n",
       "0  HG                                        DE 15 A 17 AÑOS  \n",
       "1  IL                                        DE 30 A 34 ANOS  \n",
       "2  IL                                        DE 35 A 39 AÑOS  \n",
       "3  IL                                        DE 21 A 24 AÑOS  \n",
       "4  IL                                        DE 40 A 44 AÑOS  \n",
       "\n",
       "[5 rows x 26 columns]"
      ]
     },
     "execution_count": 6,
     "metadata": {},
     "output_type": "execute_result"
    }
   ],
   "source": [
    "df_accidents = pd.read_csv('accidents.csv', sep=';', encoding='ISO-8859-1')\n",
    "df_accidents.head(5)"
   ]
  },
  {
   "cell_type": "code",
   "execution_count": 7,
   "metadata": {},
   "outputs": [
    {
     "data": {
      "text/plain": [
       "(30122, 26)"
      ]
     },
     "execution_count": 7,
     "metadata": {},
     "output_type": "execute_result"
    }
   ],
   "source": [
    "df_accidents.shape"
   ]
  },
  {
   "cell_type": "code",
   "execution_count": 8,
   "metadata": {},
   "outputs": [
    {
     "name": "stdout",
     "output_type": "stream",
     "text": [
      "<class 'pandas.core.frame.DataFrame'>\n",
      "RangeIndex: 30122 entries, 0 to 30121\n",
      "Data columns (total 26 columns):\n",
      "FECHA                 30122 non-null object\n",
      "RANGO HORARIO         30122 non-null object\n",
      "DIA SEMANA            30122 non-null object\n",
      "DISTRITO              30122 non-null object\n",
      "LUGAR ACCIDENTE       30122 non-null object\n",
      "Nº                    30122 non-null object\n",
      "Nº PARTE              30122 non-null object\n",
      "CPFA Granizo          30122 non-null object\n",
      "CPFA Hielo            30122 non-null object\n",
      "CPFA Lluvia           30122 non-null object\n",
      "CPFA Niebla           30122 non-null object\n",
      "CPFA Seco             30122 non-null object\n",
      "CPFA Nieve            30122 non-null object\n",
      "CPSV Mojada           30122 non-null object\n",
      "CPSV Aceite           30122 non-null object\n",
      "CPSV Barro            30122 non-null object\n",
      "CPSV Grava Suelta     30122 non-null object\n",
      "CPSV Hielo            30122 non-null object\n",
      "CPSV Seca Y Limpia    30122 non-null object\n",
      "* Nº VICTIMAS         30122 non-null int64\n",
      "TIPO ACCIDENTE        30122 non-null object\n",
      "Tipo Vehiculo         30122 non-null object\n",
      "TIPO PERSONA          30122 non-null object\n",
      "SEXO                  30122 non-null object\n",
      "LESIVIDAD             30122 non-null object\n",
      "Tramo Edad            30122 non-null object\n",
      "dtypes: int64(1), object(25)\n",
      "memory usage: 6.0+ MB\n"
     ]
    }
   ],
   "source": [
    "df_accidents.info()"
   ]
  },
  {
   "cell_type": "code",
   "execution_count": 9,
   "metadata": {},
   "outputs": [
    {
     "data": {
      "text/html": [
       "<div>\n",
       "<style scoped>\n",
       "    .dataframe tbody tr th:only-of-type {\n",
       "        vertical-align: middle;\n",
       "    }\n",
       "\n",
       "    .dataframe tbody tr th {\n",
       "        vertical-align: top;\n",
       "    }\n",
       "\n",
       "    .dataframe thead th {\n",
       "        text-align: right;\n",
       "    }\n",
       "</style>\n",
       "<table border=\"1\" class=\"dataframe\">\n",
       "  <thead>\n",
       "    <tr style=\"text-align: right;\">\n",
       "      <th></th>\n",
       "      <th>* Nº VICTIMAS</th>\n",
       "    </tr>\n",
       "  </thead>\n",
       "  <tbody>\n",
       "    <tr>\n",
       "      <th>count</th>\n",
       "      <td>30122.000000</td>\n",
       "    </tr>\n",
       "    <tr>\n",
       "      <th>mean</th>\n",
       "      <td>1.459232</td>\n",
       "    </tr>\n",
       "    <tr>\n",
       "      <th>std</th>\n",
       "      <td>1.232216</td>\n",
       "    </tr>\n",
       "    <tr>\n",
       "      <th>min</th>\n",
       "      <td>1.000000</td>\n",
       "    </tr>\n",
       "    <tr>\n",
       "      <th>25%</th>\n",
       "      <td>1.000000</td>\n",
       "    </tr>\n",
       "    <tr>\n",
       "      <th>50%</th>\n",
       "      <td>1.000000</td>\n",
       "    </tr>\n",
       "    <tr>\n",
       "      <th>75%</th>\n",
       "      <td>2.000000</td>\n",
       "    </tr>\n",
       "    <tr>\n",
       "      <th>max</th>\n",
       "      <td>19.000000</td>\n",
       "    </tr>\n",
       "  </tbody>\n",
       "</table>\n",
       "</div>"
      ],
      "text/plain": [
       "       * Nº VICTIMAS\n",
       "count   30122.000000\n",
       "mean        1.459232\n",
       "std         1.232216\n",
       "min         1.000000\n",
       "25%         1.000000\n",
       "50%         1.000000\n",
       "75%         2.000000\n",
       "max        19.000000"
      ]
     },
     "execution_count": 9,
     "metadata": {},
     "output_type": "execute_result"
    }
   ],
   "source": [
    "df_accidents.describe()"
   ]
  },
  {
   "cell_type": "markdown",
   "metadata": {},
   "source": [
    "# Data cleasing"
   ]
  },
  {
   "cell_type": "code",
   "execution_count": 10,
   "metadata": {},
   "outputs": [],
   "source": [
    "# Delete columns\n",
    "df_accidents = df_accidents.drop(df_accidents.columns[[4, 5, 6]], axis=1)\n",
    "\n",
    "# Rename columns\n",
    "df_accidents.rename(columns={'* Nº VICTIMAS':'Victimas'}, inplace=True)"
   ]
  },
  {
   "cell_type": "code",
   "execution_count": 11,
   "metadata": {},
   "outputs": [
    {
     "data": {
      "text/plain": [
       "(30122, 23)"
      ]
     },
     "execution_count": 11,
     "metadata": {},
     "output_type": "execute_result"
    }
   ],
   "source": [
    "df_accidents.shape"
   ]
  },
  {
   "cell_type": "code",
   "execution_count": 12,
   "metadata": {},
   "outputs": [
    {
     "data": {
      "text/plain": [
       "FECHA                 0\n",
       "RANGO HORARIO         0\n",
       "DIA SEMANA            0\n",
       "DISTRITO              0\n",
       "CPFA Granizo          0\n",
       "CPFA Hielo            0\n",
       "CPFA Lluvia           0\n",
       "CPFA Niebla           0\n",
       "CPFA Seco             0\n",
       "CPFA Nieve            0\n",
       "CPSV Mojada           0\n",
       "CPSV Aceite           0\n",
       "CPSV Barro            0\n",
       "CPSV Grava Suelta     0\n",
       "CPSV Hielo            0\n",
       "CPSV Seca Y Limpia    0\n",
       "Victimas              0\n",
       "TIPO ACCIDENTE        0\n",
       "Tipo Vehiculo         0\n",
       "TIPO PERSONA          0\n",
       "SEXO                  0\n",
       "LESIVIDAD             0\n",
       "Tramo Edad            0\n",
       "dtype: int64"
      ]
     },
     "execution_count": 12,
     "metadata": {},
     "output_type": "execute_result"
    }
   ],
   "source": [
    "# Check if there is any missing value\n",
    "df_accidents.isna().sum()"
   ]
  },
  {
   "cell_type": "code",
   "execution_count": 13,
   "metadata": {},
   "outputs": [
    {
     "data": {
      "text/plain": [
       "FECHA                 0\n",
       "RANGO HORARIO         0\n",
       "DIA SEMANA            0\n",
       "DISTRITO              0\n",
       "CPFA Granizo          0\n",
       "CPFA Hielo            0\n",
       "CPFA Lluvia           0\n",
       "CPFA Niebla           0\n",
       "CPFA Seco             0\n",
       "CPFA Nieve            0\n",
       "CPSV Mojada           0\n",
       "CPSV Aceite           0\n",
       "CPSV Barro            0\n",
       "CPSV Grava Suelta     0\n",
       "CPSV Hielo            0\n",
       "CPSV Seca Y Limpia    0\n",
       "Victimas              0\n",
       "TIPO ACCIDENTE        0\n",
       "Tipo Vehiculo         0\n",
       "TIPO PERSONA          0\n",
       "SEXO                  0\n",
       "LESIVIDAD             0\n",
       "Tramo Edad            0\n",
       "dtype: int64"
      ]
     },
     "execution_count": 13,
     "metadata": {},
     "output_type": "execute_result"
    }
   ],
   "source": [
    "# Check if there is any null value\n",
    "df_accidents.isnull().sum()"
   ]
  },
  {
   "cell_type": "code",
   "execution_count": 14,
   "metadata": {},
   "outputs": [],
   "source": [
    "# Drop rows with value TIPO PERSONA = TESTIGO, as witness were not directly involved in the accident\n",
    "df_accidents = df_accidents[df_accidents['TIPO PERSONA']!='TESTIGO                                 ']"
   ]
  },
  {
   "cell_type": "code",
   "execution_count": 15,
   "metadata": {},
   "outputs": [
    {
     "data": {
      "text/html": [
       "<div>\n",
       "<style scoped>\n",
       "    .dataframe tbody tr th:only-of-type {\n",
       "        vertical-align: middle;\n",
       "    }\n",
       "\n",
       "    .dataframe tbody tr th {\n",
       "        vertical-align: top;\n",
       "    }\n",
       "\n",
       "    .dataframe thead th {\n",
       "        text-align: right;\n",
       "    }\n",
       "</style>\n",
       "<table border=\"1\" class=\"dataframe\">\n",
       "  <thead>\n",
       "    <tr style=\"text-align: right;\">\n",
       "      <th></th>\n",
       "      <th>FECHA</th>\n",
       "      <th>RANGO HORARIO</th>\n",
       "      <th>DIA SEMANA</th>\n",
       "      <th>DISTRITO</th>\n",
       "      <th>CPFA Granizo</th>\n",
       "      <th>CPFA Hielo</th>\n",
       "      <th>CPFA Lluvia</th>\n",
       "      <th>CPFA Niebla</th>\n",
       "      <th>CPFA Seco</th>\n",
       "      <th>CPFA Nieve</th>\n",
       "      <th>...</th>\n",
       "      <th>CPSV Grava Suelta</th>\n",
       "      <th>CPSV Hielo</th>\n",
       "      <th>CPSV Seca Y Limpia</th>\n",
       "      <th>Victimas</th>\n",
       "      <th>TIPO ACCIDENTE</th>\n",
       "      <th>Tipo Vehiculo</th>\n",
       "      <th>TIPO PERSONA</th>\n",
       "      <th>SEXO</th>\n",
       "      <th>LESIVIDAD</th>\n",
       "      <th>Tramo Edad</th>\n",
       "    </tr>\n",
       "  </thead>\n",
       "  <tbody>\n",
       "    <tr>\n",
       "      <th>0</th>\n",
       "      <td>01/01/2018</td>\n",
       "      <td>DE 00:00 A 00:59</td>\n",
       "      <td>LUNES</td>\n",
       "      <td>USERA</td>\n",
       "      <td>NO</td>\n",
       "      <td>NO</td>\n",
       "      <td>NO</td>\n",
       "      <td>NO</td>\n",
       "      <td>SI</td>\n",
       "      <td>NO</td>\n",
       "      <td>...</td>\n",
       "      <td>NO</td>\n",
       "      <td>NO</td>\n",
       "      <td>SI</td>\n",
       "      <td>1</td>\n",
       "      <td>ATROPELLO</td>\n",
       "      <td>NO ASIGNADO</td>\n",
       "      <td>PEATON</td>\n",
       "      <td>HOMBRE</td>\n",
       "      <td>HG</td>\n",
       "      <td>DE 15 A 17 AÑOS</td>\n",
       "    </tr>\n",
       "    <tr>\n",
       "      <th>2</th>\n",
       "      <td>01/01/2018</td>\n",
       "      <td>DE 00:00 A 00:59</td>\n",
       "      <td>LUNES</td>\n",
       "      <td>USERA</td>\n",
       "      <td>NO</td>\n",
       "      <td>NO</td>\n",
       "      <td>NO</td>\n",
       "      <td>NO</td>\n",
       "      <td>SI</td>\n",
       "      <td>NO</td>\n",
       "      <td>...</td>\n",
       "      <td>NO</td>\n",
       "      <td>NO</td>\n",
       "      <td>SI</td>\n",
       "      <td>1</td>\n",
       "      <td>ATROPELLO</td>\n",
       "      <td>TURISMO</td>\n",
       "      <td>CONDUCTOR</td>\n",
       "      <td>HOMBRE</td>\n",
       "      <td>IL</td>\n",
       "      <td>DE 35 A 39 AÑOS</td>\n",
       "    </tr>\n",
       "    <tr>\n",
       "      <th>7</th>\n",
       "      <td>01/01/2018</td>\n",
       "      <td>DE 1:00 A 1:59</td>\n",
       "      <td>LUNES</td>\n",
       "      <td>HORTALEZA</td>\n",
       "      <td>NO</td>\n",
       "      <td>NO</td>\n",
       "      <td>NO</td>\n",
       "      <td>NO</td>\n",
       "      <td>SI</td>\n",
       "      <td>NO</td>\n",
       "      <td>...</td>\n",
       "      <td>NO</td>\n",
       "      <td>NO</td>\n",
       "      <td>SI</td>\n",
       "      <td>1</td>\n",
       "      <td>CHOQUE CON OBJETO FIJO</td>\n",
       "      <td>TURISMO</td>\n",
       "      <td>CONDUCTOR</td>\n",
       "      <td>HOMBRE</td>\n",
       "      <td>IL</td>\n",
       "      <td>DE 21 A 24 AÑOS</td>\n",
       "    </tr>\n",
       "    <tr>\n",
       "      <th>8</th>\n",
       "      <td>01/01/2018</td>\n",
       "      <td>DE 1:00 A 1:59</td>\n",
       "      <td>LUNES</td>\n",
       "      <td>HORTALEZA</td>\n",
       "      <td>NO</td>\n",
       "      <td>NO</td>\n",
       "      <td>NO</td>\n",
       "      <td>NO</td>\n",
       "      <td>SI</td>\n",
       "      <td>NO</td>\n",
       "      <td>...</td>\n",
       "      <td>NO</td>\n",
       "      <td>NO</td>\n",
       "      <td>SI</td>\n",
       "      <td>1</td>\n",
       "      <td>CHOQUE CON OBJETO FIJO</td>\n",
       "      <td>TURISMO</td>\n",
       "      <td>VIAJERO</td>\n",
       "      <td>HOMBRE</td>\n",
       "      <td>HG</td>\n",
       "      <td>DE 21 A 24 AÑOS</td>\n",
       "    </tr>\n",
       "    <tr>\n",
       "      <th>9</th>\n",
       "      <td>01/01/2018</td>\n",
       "      <td>DE 1:00 A 1:59</td>\n",
       "      <td>LUNES</td>\n",
       "      <td>SAN BLAS</td>\n",
       "      <td>NO</td>\n",
       "      <td>NO</td>\n",
       "      <td>NO</td>\n",
       "      <td>NO</td>\n",
       "      <td>SI</td>\n",
       "      <td>NO</td>\n",
       "      <td>...</td>\n",
       "      <td>NO</td>\n",
       "      <td>NO</td>\n",
       "      <td>SI</td>\n",
       "      <td>1</td>\n",
       "      <td>COLISIÓN DOBLE</td>\n",
       "      <td>TURISMO</td>\n",
       "      <td>CONDUCTOR</td>\n",
       "      <td>HOMBRE</td>\n",
       "      <td>IL</td>\n",
       "      <td>DE 25 A 29 AÑOS</td>\n",
       "    </tr>\n",
       "  </tbody>\n",
       "</table>\n",
       "<p>5 rows × 23 columns</p>\n",
       "</div>"
      ],
      "text/plain": [
       "        FECHA     RANGO HORARIO DIA SEMANA                        DISTRITO  \\\n",
       "0  01/01/2018  DE 00:00 A 00:59      LUNES  USERA                            \n",
       "2  01/01/2018  DE 00:00 A 00:59      LUNES  USERA                            \n",
       "7  01/01/2018    DE 1:00 A 1:59      LUNES  HORTALEZA                        \n",
       "8  01/01/2018    DE 1:00 A 1:59      LUNES  HORTALEZA                        \n",
       "9  01/01/2018    DE 1:00 A 1:59      LUNES  SAN BLAS                         \n",
       "\n",
       "  CPFA Granizo CPFA Hielo CPFA Lluvia CPFA Niebla CPFA Seco CPFA Nieve  ...  \\\n",
       "0           NO         NO          NO          NO        SI         NO  ...   \n",
       "2           NO         NO          NO          NO        SI         NO  ...   \n",
       "7           NO         NO          NO          NO        SI         NO  ...   \n",
       "8           NO         NO          NO          NO        SI         NO  ...   \n",
       "9           NO         NO          NO          NO        SI         NO  ...   \n",
       "\n",
       "  CPSV Grava Suelta CPSV Hielo CPSV Seca Y Limpia Victimas  \\\n",
       "0                NO         NO                 SI        1   \n",
       "2                NO         NO                 SI        1   \n",
       "7                NO         NO                 SI        1   \n",
       "8                NO         NO                 SI        1   \n",
       "9                NO         NO                 SI        1   \n",
       "\n",
       "                             TIPO ACCIDENTE  \\\n",
       "0  ATROPELLO                                  \n",
       "2  ATROPELLO                                  \n",
       "7  CHOQUE CON OBJETO FIJO                     \n",
       "8  CHOQUE CON OBJETO FIJO                     \n",
       "9  COLISIÓN DOBLE                             \n",
       "\n",
       "                              Tipo Vehiculo  \\\n",
       "0                               NO ASIGNADO   \n",
       "2  TURISMO                                    \n",
       "7  TURISMO                                    \n",
       "8  TURISMO                                    \n",
       "9  TURISMO                                    \n",
       "\n",
       "                               TIPO PERSONA    SEXO  \\\n",
       "0  PEATON                                    HOMBRE   \n",
       "2                                 CONDUCTOR  HOMBRE   \n",
       "7                                 CONDUCTOR  HOMBRE   \n",
       "8  VIAJERO                                   HOMBRE   \n",
       "9                                 CONDUCTOR  HOMBRE   \n",
       "\n",
       "                                  LESIVIDAD       Tramo Edad  \n",
       "0  HG                                        DE 15 A 17 AÑOS  \n",
       "2  IL                                        DE 35 A 39 AÑOS  \n",
       "7  IL                                        DE 21 A 24 AÑOS  \n",
       "8  HG                                        DE 21 A 24 AÑOS  \n",
       "9  IL                                        DE 25 A 29 AÑOS  \n",
       "\n",
       "[5 rows x 23 columns]"
      ]
     },
     "execution_count": 15,
     "metadata": {},
     "output_type": "execute_result"
    }
   ],
   "source": [
    "df_accidents.head()"
   ]
  },
  {
   "cell_type": "markdown",
   "metadata": {},
   "source": [
    "# EDA"
   ]
  },
  {
   "cell_type": "code",
   "execution_count": 16,
   "metadata": {},
   "outputs": [
    {
     "data": {
      "text/plain": [
       "VIERNES      4721\n",
       "MIERCOLES    4042\n",
       "MARTES       4028\n",
       "LUNES        3906\n",
       "JUEVES       3899\n",
       "SABADO       3018\n",
       "DOMINGO      2849\n",
       "Name: DIA SEMANA, dtype: int64"
      ]
     },
     "execution_count": 16,
     "metadata": {},
     "output_type": "execute_result"
    }
   ],
   "source": [
    "# Traffic accidents by day of the week\n",
    "df_day = df_accidents['DIA SEMANA'].value_counts()\n",
    "df_day"
   ]
  },
  {
   "cell_type": "code",
   "execution_count": 17,
   "metadata": {},
   "outputs": [
    {
     "data": {
      "image/png": "[encoded data removed]",
      "text/plain": [
       "<Figure size 720x360 with 1 Axes>"
      ]
     },
     "metadata": {
      "needs_background": "light"
     },
     "output_type": "display_data"
    }
   ],
   "source": [
    "df_day.plot(kind='bar', \n",
    "             stacked=False,\n",
    "             figsize=(10, 5))\n",
    "\n",
    "plt.title('Traffic accidents by day of the week')\n",
    "plt.ylabel('No. of accidents')\n",
    "plt.xlabel('Day of the week')\n",
    "\n",
    "plt.show()"
   ]
  },
  {
   "cell_type": "code",
   "execution_count": 18,
   "metadata": {},
   "outputs": [],
   "source": [
    "# Traffic accidents by type of accident\n",
    "df_tipo = df_accidents['TIPO ACCIDENTE'].value_counts()"
   ]
  },
  {
   "cell_type": "code",
   "execution_count": 19,
   "metadata": {},
   "outputs": [
    {
     "data": {
      "image/png": "[encoded data removed]",
      "text/plain": [
       "<Figure size 720x360 with 1 Axes>"
      ]
     },
     "metadata": {
      "needs_background": "light"
     },
     "output_type": "display_data"
    }
   ],
   "source": [
    "df_tipo.plot(kind='barh', \n",
    "             stacked=True,\n",
    "             figsize=(10, 5))\n",
    "\n",
    "plt.title('Traffic accidents by type of accident')\n",
    "plt.ylabel('No. of accidents')\n",
    "plt.xlabel('Type of accident')\n",
    "\n",
    "plt.show()"
   ]
  },
  {
   "cell_type": "code",
   "execution_count": 20,
   "metadata": {},
   "outputs": [
    {
     "data": {
      "text/plain": [
       "CONDUCTOR                                   19333\n",
       "VIAJERO                                      5365\n",
       "PEATON                                       1765\n",
       "Name: TIPO PERSONA, dtype: int64"
      ]
     },
     "execution_count": 20,
     "metadata": {},
     "output_type": "execute_result"
    }
   ],
   "source": [
    "# Traffic accidents by type of person involved\n",
    "df_person = df_accidents['TIPO PERSONA'].value_counts()\n",
    "df_person"
   ]
  },
  {
   "cell_type": "code",
   "execution_count": 21,
   "metadata": {},
   "outputs": [
    {
     "data": {
      "image/png": "[encoded data removed]",
      "text/plain": [
       "<Figure size 720x360 with 1 Axes>"
      ]
     },
     "metadata": {},
     "output_type": "display_data"
    }
   ],
   "source": [
    "df_person.plot(kind='pie', \n",
    "             stacked=True,\n",
    "             figsize=(10, 5))\n",
    "\n",
    "plt.title('Traffic accidents by type of person involved')\n",
    "\n",
    "plt.show()"
   ]
  },
  {
   "cell_type": "code",
   "execution_count": 22,
   "metadata": {},
   "outputs": [
    {
     "data": {
      "text/plain": [
       "HOMBRE         16556\n",
       "MUJER           8682\n",
       "NO ASIGNADO     1225\n",
       "Name: SEXO, dtype: int64"
      ]
     },
     "execution_count": 22,
     "metadata": {},
     "output_type": "execute_result"
    }
   ],
   "source": [
    "# Traffic accidents by sex\n",
    "df_sex = df_accidents['SEXO'].value_counts()\n",
    "df_sex"
   ]
  },
  {
   "cell_type": "code",
   "execution_count": 23,
   "metadata": {},
   "outputs": [
    {
     "data": {
      "image/png": "[encoded data removed]",
      "text/plain": [
       "<Figure size 720x360 with 1 Axes>"
      ]
     },
     "metadata": {},
     "output_type": "display_data"
    }
   ],
   "source": [
    "df_sex.plot(kind='pie', \n",
    "             stacked=True,\n",
    "             figsize=(10, 5))\n",
    "\n",
    "plt.title('Traffic accidents by sex')\n",
    "\n",
    "plt.show()"
   ]
  },
  {
   "cell_type": "code",
   "execution_count": 24,
   "metadata": {},
   "outputs": [
    {
     "data": {
      "text/html": [
       "<div>\n",
       "<style scoped>\n",
       "    .dataframe tbody tr th:only-of-type {\n",
       "        vertical-align: middle;\n",
       "    }\n",
       "\n",
       "    .dataframe tbody tr th {\n",
       "        vertical-align: top;\n",
       "    }\n",
       "\n",
       "    .dataframe thead th {\n",
       "        text-align: right;\n",
       "    }\n",
       "</style>\n",
       "<table border=\"1\" class=\"dataframe\">\n",
       "  <thead>\n",
       "    <tr style=\"text-align: right;\">\n",
       "      <th></th>\n",
       "      <th>FECHA</th>\n",
       "      <th>Victimas</th>\n",
       "    </tr>\n",
       "  </thead>\n",
       "  <tbody>\n",
       "    <tr>\n",
       "      <th>0</th>\n",
       "      <td>07/03/2018</td>\n",
       "      <td>514</td>\n",
       "    </tr>\n",
       "    <tr>\n",
       "      <th>1</th>\n",
       "      <td>20/07/2018</td>\n",
       "      <td>487</td>\n",
       "    </tr>\n",
       "    <tr>\n",
       "      <th>2</th>\n",
       "      <td>17/07/2018</td>\n",
       "      <td>345</td>\n",
       "    </tr>\n",
       "    <tr>\n",
       "      <th>3</th>\n",
       "      <td>23/05/2018</td>\n",
       "      <td>286</td>\n",
       "    </tr>\n",
       "    <tr>\n",
       "      <th>4</th>\n",
       "      <td>15/04/2018</td>\n",
       "      <td>271</td>\n",
       "    </tr>\n",
       "    <tr>\n",
       "      <th>5</th>\n",
       "      <td>06/04/2018</td>\n",
       "      <td>238</td>\n",
       "    </tr>\n",
       "    <tr>\n",
       "      <th>6</th>\n",
       "      <td>09/05/2018</td>\n",
       "      <td>236</td>\n",
       "    </tr>\n",
       "    <tr>\n",
       "      <th>7</th>\n",
       "      <td>27/04/2018</td>\n",
       "      <td>226</td>\n",
       "    </tr>\n",
       "    <tr>\n",
       "      <th>8</th>\n",
       "      <td>06/01/2018</td>\n",
       "      <td>216</td>\n",
       "    </tr>\n",
       "    <tr>\n",
       "      <th>9</th>\n",
       "      <td>06/10/2018</td>\n",
       "      <td>212</td>\n",
       "    </tr>\n",
       "  </tbody>\n",
       "</table>\n",
       "</div>"
      ],
      "text/plain": [
       "        FECHA  Victimas\n",
       "0  07/03/2018       514\n",
       "1  20/07/2018       487\n",
       "2  17/07/2018       345\n",
       "3  23/05/2018       286\n",
       "4  15/04/2018       271\n",
       "5  06/04/2018       238\n",
       "6  09/05/2018       236\n",
       "7  27/04/2018       226\n",
       "8  06/01/2018       216\n",
       "9  06/10/2018       212"
      ]
     },
     "execution_count": 24,
     "metadata": {},
     "output_type": "execute_result"
    }
   ],
   "source": [
    "# Casualties by date\n",
    "df_date = df_accidents.groupby('FECHA').sum()\n",
    "df_date.sort_values(['Victimas'], ascending=False, axis=0, inplace=True)\n",
    "df_date.head(10).reset_index()"
   ]
  },
  {
   "cell_type": "code",
   "execution_count": 25,
   "metadata": {},
   "outputs": [
    {
     "data": {
      "text/html": [
       "<div>\n",
       "<style scoped>\n",
       "    .dataframe tbody tr th:only-of-type {\n",
       "        vertical-align: middle;\n",
       "    }\n",
       "\n",
       "    .dataframe tbody tr th {\n",
       "        vertical-align: top;\n",
       "    }\n",
       "\n",
       "    .dataframe thead th {\n",
       "        text-align: right;\n",
       "    }\n",
       "</style>\n",
       "<table border=\"1\" class=\"dataframe\">\n",
       "  <thead>\n",
       "    <tr style=\"text-align: right;\">\n",
       "      <th></th>\n",
       "      <th>Victimas</th>\n",
       "    </tr>\n",
       "  </thead>\n",
       "  <tbody>\n",
       "    <tr>\n",
       "      <th>count</th>\n",
       "      <td>26463.000000</td>\n",
       "    </tr>\n",
       "    <tr>\n",
       "      <th>mean</th>\n",
       "      <td>1.488115</td>\n",
       "    </tr>\n",
       "    <tr>\n",
       "      <th>std</th>\n",
       "      <td>1.278060</td>\n",
       "    </tr>\n",
       "    <tr>\n",
       "      <th>min</th>\n",
       "      <td>1.000000</td>\n",
       "    </tr>\n",
       "    <tr>\n",
       "      <th>25%</th>\n",
       "      <td>1.000000</td>\n",
       "    </tr>\n",
       "    <tr>\n",
       "      <th>50%</th>\n",
       "      <td>1.000000</td>\n",
       "    </tr>\n",
       "    <tr>\n",
       "      <th>75%</th>\n",
       "      <td>2.000000</td>\n",
       "    </tr>\n",
       "    <tr>\n",
       "      <th>max</th>\n",
       "      <td>19.000000</td>\n",
       "    </tr>\n",
       "  </tbody>\n",
       "</table>\n",
       "</div>"
      ],
      "text/plain": [
       "           Victimas\n",
       "count  26463.000000\n",
       "mean       1.488115\n",
       "std        1.278060\n",
       "min        1.000000\n",
       "25%        1.000000\n",
       "50%        1.000000\n",
       "75%        2.000000\n",
       "max       19.000000"
      ]
     },
     "execution_count": 25,
     "metadata": {},
     "output_type": "execute_result"
    }
   ],
   "source": [
    "df_accidents.describe()"
   ]
  },
  {
   "cell_type": "markdown",
   "metadata": {},
   "source": [
    "# Determining normality"
   ]
  },
  {
   "cell_type": "code",
   "execution_count": 26,
   "metadata": {},
   "outputs": [
    {
     "data": {
      "image/png": "[encoded data removed]",
      "text/plain": [
       "<Figure size 432x288 with 1 Axes>"
      ]
     },
     "metadata": {
      "needs_background": "light"
     },
     "output_type": "display_data"
    }
   ],
   "source": [
    "df_accidents.Victimas.hist();"
   ]
  },
  {
   "cell_type": "code",
   "execution_count": 27,
   "metadata": {},
   "outputs": [
    {
     "data": {
      "text/plain": [
       "NormaltestResult(statistic=31902.082170149784, pvalue=0.0)"
      ]
     },
     "execution_count": 27,
     "metadata": {},
     "output_type": "execute_result"
    }
   ],
   "source": [
    "from scipy.stats.mstats import normaltest # D'Agostino K^2 Test\n",
    "normaltest(df_accidents.Victimas.values)"
   ]
  },
  {
   "cell_type": "code",
   "execution_count": 28,
   "metadata": {},
   "outputs": [],
   "source": [
    "# Testing log\n",
    "log_casualties = np.log(df_accidents.Victimas)"
   ]
  },
  {
   "cell_type": "code",
   "execution_count": 29,
   "metadata": {},
   "outputs": [
    {
     "data": {
      "text/plain": [
       "<matplotlib.axes._subplots.AxesSubplot at 0x7f7cdd7a6350>"
      ]
     },
     "execution_count": 29,
     "metadata": {},
     "output_type": "execute_result"
    },
    {
     "data": {
      "image/png": "[encoded data removed]",
      "text/plain": [
       "<Figure size 432x288 with 1 Axes>"
      ]
     },
     "metadata": {
      "needs_background": "light"
     },
     "output_type": "display_data"
    }
   ],
   "source": [
    "log_casualties.hist()"
   ]
  },
  {
   "cell_type": "code",
   "execution_count": 30,
   "metadata": {},
   "outputs": [
    {
     "data": {
      "text/plain": [
       "NormaltestResult(statistic=10340.212264191083, pvalue=0.0)"
      ]
     },
     "execution_count": 30,
     "metadata": {},
     "output_type": "execute_result"
    }
   ],
   "source": [
    "normaltest(log_casualties)"
   ]
  },
  {
   "cell_type": "code",
   "execution_count": 31,
   "metadata": {},
   "outputs": [],
   "source": [
    "# Box cox\n",
    "from scipy.stats import boxcox\n",
    "bc_result = boxcox(df_accidents.Victimas)\n",
    "boxcox_casualties = bc_result[0]\n",
    "lam = bc_result[1]"
   ]
  },
  {
   "cell_type": "code",
   "execution_count": 32,
   "metadata": {},
   "outputs": [
    {
     "data": {
      "text/plain": [
       "(array([19470.,     0.,     0.,     0.,     0.,     0.,     0.,     0.,\n",
       "         4445.,  2548.]),\n",
       " array([0.        , 0.03015594, 0.06031189, 0.09046783, 0.12062378,\n",
       "        0.15077972, 0.18093567, 0.21109161, 0.24124756, 0.2714035 ,\n",
       "        0.30155945]),\n",
       " <a list of 10 Patch objects>)"
      ]
     },
     "execution_count": 32,
     "metadata": {},
     "output_type": "execute_result"
    },
    {
     "data": {
      "image/png": "[encoded data removed]",
      "text/plain": [
       "<Figure size 432x288 with 1 Axes>"
      ]
     },
     "metadata": {
      "needs_background": "light"
     },
     "output_type": "display_data"
    }
   ],
   "source": [
    "plt.hist(boxcox_casualties)"
   ]
  },
  {
   "cell_type": "code",
   "execution_count": 33,
   "metadata": {},
   "outputs": [
    {
     "data": {
      "text/plain": [
       "NormaltestResult(statistic=6011.159265145325, pvalue=0.0)"
      ]
     },
     "execution_count": 33,
     "metadata": {},
     "output_type": "execute_result"
    }
   ],
   "source": [
    "normaltest(boxcox_casualties)"
   ]
  },
  {
   "cell_type": "code",
   "execution_count": 34,
   "metadata": {},
   "outputs": [
    {
     "data": {
      "text/plain": [
       "(array([1.947e+04, 4.445e+03, 1.917e+03, 2.790e+02, 1.680e+02, 6.500e+01,\n",
       "        4.600e+01, 1.500e+01, 1.700e+01, 4.100e+01]),\n",
       " array([1.        , 1.33588989, 1.67177979, 2.00766968, 2.34355958,\n",
       "        2.67944947, 3.01533937, 3.35122926, 3.68711915, 4.02300905,\n",
       "        4.35889894]),\n",
       " <a list of 10 Patch objects>)"
      ]
     },
     "execution_count": 34,
     "metadata": {},
     "output_type": "execute_result"
    },
    {
     "data": {
      "image/png": "[encoded data removed]",
      "text/plain": [
       "<Figure size 432x288 with 1 Axes>"
      ]
     },
     "metadata": {
      "needs_background": "light"
     },
     "output_type": "display_data"
    }
   ],
   "source": [
    "# Square root\n",
    "sqrt_casualties = np.sqrt(df_accidents.Victimas)\n",
    "plt.hist(sqrt_casualties)"
   ]
  },
  {
   "cell_type": "code",
   "execution_count": 35,
   "metadata": {},
   "outputs": [
    {
     "data": {
      "text/plain": [
       "NormaltestResult(statistic=19078.37606717139, pvalue=0.0)"
      ]
     },
     "execution_count": 35,
     "metadata": {},
     "output_type": "execute_result"
    }
   ],
   "source": [
    "normaltest(sqrt_casualties)"
   ]
  },
  {
   "cell_type": "markdown",
   "metadata": {},
   "source": [
    "# One-hot encoding"
   ]
  },
  {
   "cell_type": "code",
   "execution_count": 36,
   "metadata": {},
   "outputs": [
    {
     "data": {
      "text/html": [
       "<div>\n",
       "<style scoped>\n",
       "    .dataframe tbody tr th:only-of-type {\n",
       "        vertical-align: middle;\n",
       "    }\n",
       "\n",
       "    .dataframe tbody tr th {\n",
       "        vertical-align: top;\n",
       "    }\n",
       "\n",
       "    .dataframe thead th {\n",
       "        text-align: right;\n",
       "    }\n",
       "</style>\n",
       "<table border=\"1\" class=\"dataframe\">\n",
       "  <thead>\n",
       "    <tr style=\"text-align: right;\">\n",
       "      <th></th>\n",
       "      <th>RANGO HORARIO</th>\n",
       "      <th>DIA SEMANA</th>\n",
       "      <th>DISTRITO</th>\n",
       "      <th>CPFA Granizo</th>\n",
       "      <th>CPFA Hielo</th>\n",
       "      <th>CPFA Lluvia</th>\n",
       "      <th>CPFA Niebla</th>\n",
       "      <th>CPFA Seco</th>\n",
       "      <th>CPFA Nieve</th>\n",
       "      <th>CPSV Mojada</th>\n",
       "      <th>...</th>\n",
       "      <th>CPSV Grava Suelta</th>\n",
       "      <th>CPSV Hielo</th>\n",
       "      <th>CPSV Seca Y Limpia</th>\n",
       "      <th>Victimas</th>\n",
       "      <th>TIPO ACCIDENTE</th>\n",
       "      <th>Tipo Vehiculo</th>\n",
       "      <th>TIPO PERSONA</th>\n",
       "      <th>SEXO</th>\n",
       "      <th>LESIVIDAD</th>\n",
       "      <th>Tramo Edad</th>\n",
       "    </tr>\n",
       "  </thead>\n",
       "  <tbody>\n",
       "    <tr>\n",
       "      <th>0</th>\n",
       "      <td>DE 00:00 A 00:59</td>\n",
       "      <td>LUNES</td>\n",
       "      <td>USERA</td>\n",
       "      <td>NO</td>\n",
       "      <td>NO</td>\n",
       "      <td>NO</td>\n",
       "      <td>NO</td>\n",
       "      <td>SI</td>\n",
       "      <td>NO</td>\n",
       "      <td>NO</td>\n",
       "      <td>...</td>\n",
       "      <td>NO</td>\n",
       "      <td>NO</td>\n",
       "      <td>SI</td>\n",
       "      <td>1</td>\n",
       "      <td>ATROPELLO</td>\n",
       "      <td>NO ASIGNADO</td>\n",
       "      <td>PEATON</td>\n",
       "      <td>HOMBRE</td>\n",
       "      <td>HG</td>\n",
       "      <td>DE 15 A 17 AÑOS</td>\n",
       "    </tr>\n",
       "    <tr>\n",
       "      <th>2</th>\n",
       "      <td>DE 00:00 A 00:59</td>\n",
       "      <td>LUNES</td>\n",
       "      <td>USERA</td>\n",
       "      <td>NO</td>\n",
       "      <td>NO</td>\n",
       "      <td>NO</td>\n",
       "      <td>NO</td>\n",
       "      <td>SI</td>\n",
       "      <td>NO</td>\n",
       "      <td>NO</td>\n",
       "      <td>...</td>\n",
       "      <td>NO</td>\n",
       "      <td>NO</td>\n",
       "      <td>SI</td>\n",
       "      <td>1</td>\n",
       "      <td>ATROPELLO</td>\n",
       "      <td>TURISMO</td>\n",
       "      <td>CONDUCTOR</td>\n",
       "      <td>HOMBRE</td>\n",
       "      <td>IL</td>\n",
       "      <td>DE 35 A 39 AÑOS</td>\n",
       "    </tr>\n",
       "    <tr>\n",
       "      <th>7</th>\n",
       "      <td>DE 1:00 A 1:59</td>\n",
       "      <td>LUNES</td>\n",
       "      <td>HORTALEZA</td>\n",
       "      <td>NO</td>\n",
       "      <td>NO</td>\n",
       "      <td>NO</td>\n",
       "      <td>NO</td>\n",
       "      <td>SI</td>\n",
       "      <td>NO</td>\n",
       "      <td>NO</td>\n",
       "      <td>...</td>\n",
       "      <td>NO</td>\n",
       "      <td>NO</td>\n",
       "      <td>SI</td>\n",
       "      <td>1</td>\n",
       "      <td>CHOQUE CON OBJETO FIJO</td>\n",
       "      <td>TURISMO</td>\n",
       "      <td>CONDUCTOR</td>\n",
       "      <td>HOMBRE</td>\n",
       "      <td>IL</td>\n",
       "      <td>DE 21 A 24 AÑOS</td>\n",
       "    </tr>\n",
       "    <tr>\n",
       "      <th>8</th>\n",
       "      <td>DE 1:00 A 1:59</td>\n",
       "      <td>LUNES</td>\n",
       "      <td>HORTALEZA</td>\n",
       "      <td>NO</td>\n",
       "      <td>NO</td>\n",
       "      <td>NO</td>\n",
       "      <td>NO</td>\n",
       "      <td>SI</td>\n",
       "      <td>NO</td>\n",
       "      <td>NO</td>\n",
       "      <td>...</td>\n",
       "      <td>NO</td>\n",
       "      <td>NO</td>\n",
       "      <td>SI</td>\n",
       "      <td>1</td>\n",
       "      <td>CHOQUE CON OBJETO FIJO</td>\n",
       "      <td>TURISMO</td>\n",
       "      <td>VIAJERO</td>\n",
       "      <td>HOMBRE</td>\n",
       "      <td>HG</td>\n",
       "      <td>DE 21 A 24 AÑOS</td>\n",
       "    </tr>\n",
       "    <tr>\n",
       "      <th>9</th>\n",
       "      <td>DE 1:00 A 1:59</td>\n",
       "      <td>LUNES</td>\n",
       "      <td>SAN BLAS</td>\n",
       "      <td>NO</td>\n",
       "      <td>NO</td>\n",
       "      <td>NO</td>\n",
       "      <td>NO</td>\n",
       "      <td>SI</td>\n",
       "      <td>NO</td>\n",
       "      <td>NO</td>\n",
       "      <td>...</td>\n",
       "      <td>NO</td>\n",
       "      <td>NO</td>\n",
       "      <td>SI</td>\n",
       "      <td>1</td>\n",
       "      <td>COLISIÓN DOBLE</td>\n",
       "      <td>TURISMO</td>\n",
       "      <td>CONDUCTOR</td>\n",
       "      <td>HOMBRE</td>\n",
       "      <td>IL</td>\n",
       "      <td>DE 25 A 29 AÑOS</td>\n",
       "    </tr>\n",
       "  </tbody>\n",
       "</table>\n",
       "<p>5 rows × 22 columns</p>\n",
       "</div>"
      ],
      "text/plain": [
       "      RANGO HORARIO DIA SEMANA                        DISTRITO CPFA Granizo  \\\n",
       "0  DE 00:00 A 00:59      LUNES  USERA                                    NO   \n",
       "2  DE 00:00 A 00:59      LUNES  USERA                                    NO   \n",
       "7    DE 1:00 A 1:59      LUNES  HORTALEZA                                NO   \n",
       "8    DE 1:00 A 1:59      LUNES  HORTALEZA                                NO   \n",
       "9    DE 1:00 A 1:59      LUNES  SAN BLAS                                 NO   \n",
       "\n",
       "  CPFA Hielo CPFA Lluvia CPFA Niebla CPFA Seco CPFA Nieve CPSV Mojada  ...  \\\n",
       "0         NO          NO          NO        SI         NO          NO  ...   \n",
       "2         NO          NO          NO        SI         NO          NO  ...   \n",
       "7         NO          NO          NO        SI         NO          NO  ...   \n",
       "8         NO          NO          NO        SI         NO          NO  ...   \n",
       "9         NO          NO          NO        SI         NO          NO  ...   \n",
       "\n",
       "  CPSV Grava Suelta CPSV Hielo CPSV Seca Y Limpia Victimas  \\\n",
       "0                NO         NO                 SI        1   \n",
       "2                NO         NO                 SI        1   \n",
       "7                NO         NO                 SI        1   \n",
       "8                NO         NO                 SI        1   \n",
       "9                NO         NO                 SI        1   \n",
       "\n",
       "                             TIPO ACCIDENTE  \\\n",
       "0  ATROPELLO                                  \n",
       "2  ATROPELLO                                  \n",
       "7  CHOQUE CON OBJETO FIJO                     \n",
       "8  CHOQUE CON OBJETO FIJO                     \n",
       "9  COLISIÓN DOBLE                             \n",
       "\n",
       "                              Tipo Vehiculo  \\\n",
       "0                               NO ASIGNADO   \n",
       "2  TURISMO                                    \n",
       "7  TURISMO                                    \n",
       "8  TURISMO                                    \n",
       "9  TURISMO                                    \n",
       "\n",
       "                               TIPO PERSONA    SEXO  \\\n",
       "0  PEATON                                    HOMBRE   \n",
       "2                                 CONDUCTOR  HOMBRE   \n",
       "7                                 CONDUCTOR  HOMBRE   \n",
       "8  VIAJERO                                   HOMBRE   \n",
       "9                                 CONDUCTOR  HOMBRE   \n",
       "\n",
       "                                  LESIVIDAD       Tramo Edad  \n",
       "0  HG                                        DE 15 A 17 AÑOS  \n",
       "2  IL                                        DE 35 A 39 AÑOS  \n",
       "7  IL                                        DE 21 A 24 AÑOS  \n",
       "8  HG                                        DE 21 A 24 AÑOS  \n",
       "9  IL                                        DE 25 A 29 AÑOS  \n",
       "\n",
       "[5 rows x 22 columns]"
      ]
     },
     "execution_count": 36,
     "metadata": {},
     "output_type": "execute_result"
    }
   ],
   "source": [
    "df_accidents = df_accidents.drop(df_accidents.columns[[0]], axis=1)\n",
    "df_accidents.head()"
   ]
  },
  {
   "cell_type": "code",
   "execution_count": 37,
   "metadata": {},
   "outputs": [],
   "source": [
    "# Select the object (string) columns\n",
    "mask = df_accidents.dtypes == np.object\n",
    "categorical_cols = df_accidents.columns[mask]"
   ]
  },
  {
   "cell_type": "code",
   "execution_count": 38,
   "metadata": {},
   "outputs": [
    {
     "data": {
      "text/plain": [
       "107"
      ]
     },
     "execution_count": 38,
     "metadata": {},
     "output_type": "execute_result"
    }
   ],
   "source": [
    "# Determine how many extra columns would be created\n",
    "num_ohc_cols = (df_accidents[categorical_cols]\n",
    "                .apply(lambda x: x.nunique())\n",
    "                .sort_values(ascending=False))\n",
    "\n",
    "\n",
    "# No need to encode if there is only one value\n",
    "small_num_ohc_cols = num_ohc_cols.loc[num_ohc_cols>1]\n",
    "\n",
    "# Number of one-hot columns is one less than the number of categories\n",
    "small_num_ohc_cols -= 1\n",
    "\n",
    "# This is 107 columns, assuming the original ones are dropped. \n",
    "small_num_ohc_cols.sum()"
   ]
  },
  {
   "cell_type": "code",
   "execution_count": 39,
   "metadata": {},
   "outputs": [
    {
     "name": "stderr",
     "output_type": "stream",
     "text": [
      "/srv/conda/envs/notebook/lib/python3.7/site-packages/sklearn/preprocessing/_encoders.py:415: FutureWarning: The handling of integer data will change in version 0.22. Currently, the categories are determined based on the range [0, max(values)], while in the future they will be determined based on the unique values.\n",
      "If you want the future behaviour and silence this warning, you can specify \"categories='auto'\".\n",
      "In case you used a LabelEncoder before this OneHotEncoder to convert the categories to integers, then you can now use the OneHotEncoder directly.\n",
      "  warnings.warn(msg, FutureWarning)\n",
      "/srv/conda/envs/notebook/lib/python3.7/site-packages/sklearn/preprocessing/_encoders.py:415: FutureWarning: The handling of integer data will change in version 0.22. Currently, the categories are determined based on the range [0, max(values)], while in the future they will be determined based on the unique values.\n",
      "If you want the future behaviour and silence this warning, you can specify \"categories='auto'\".\n",
      "In case you used a LabelEncoder before this OneHotEncoder to convert the categories to integers, then you can now use the OneHotEncoder directly.\n",
      "  warnings.warn(msg, FutureWarning)\n",
      "/srv/conda/envs/notebook/lib/python3.7/site-packages/sklearn/preprocessing/_encoders.py:415: FutureWarning: The handling of integer data will change in version 0.22. Currently, the categories are determined based on the range [0, max(values)], while in the future they will be determined based on the unique values.\n",
      "If you want the future behaviour and silence this warning, you can specify \"categories='auto'\".\n",
      "In case you used a LabelEncoder before this OneHotEncoder to convert the categories to integers, then you can now use the OneHotEncoder directly.\n",
      "  warnings.warn(msg, FutureWarning)\n",
      "/srv/conda/envs/notebook/lib/python3.7/site-packages/sklearn/preprocessing/_encoders.py:415: FutureWarning: The handling of integer data will change in version 0.22. Currently, the categories are determined based on the range [0, max(values)], while in the future they will be determined based on the unique values.\n",
      "If you want the future behaviour and silence this warning, you can specify \"categories='auto'\".\n",
      "In case you used a LabelEncoder before this OneHotEncoder to convert the categories to integers, then you can now use the OneHotEncoder directly.\n",
      "  warnings.warn(msg, FutureWarning)\n",
      "/srv/conda/envs/notebook/lib/python3.7/site-packages/sklearn/preprocessing/_encoders.py:415: FutureWarning: The handling of integer data will change in version 0.22. Currently, the categories are determined based on the range [0, max(values)], while in the future they will be determined based on the unique values.\n",
      "If you want the future behaviour and silence this warning, you can specify \"categories='auto'\".\n",
      "In case you used a LabelEncoder before this OneHotEncoder to convert the categories to integers, then you can now use the OneHotEncoder directly.\n",
      "  warnings.warn(msg, FutureWarning)\n",
      "/srv/conda/envs/notebook/lib/python3.7/site-packages/sklearn/preprocessing/_encoders.py:415: FutureWarning: The handling of integer data will change in version 0.22. Currently, the categories are determined based on the range [0, max(values)], while in the future they will be determined based on the unique values.\n",
      "If you want the future behaviour and silence this warning, you can specify \"categories='auto'\".\n",
      "In case you used a LabelEncoder before this OneHotEncoder to convert the categories to integers, then you can now use the OneHotEncoder directly.\n",
      "  warnings.warn(msg, FutureWarning)\n",
      "/srv/conda/envs/notebook/lib/python3.7/site-packages/sklearn/preprocessing/_encoders.py:415: FutureWarning: The handling of integer data will change in version 0.22. Currently, the categories are determined based on the range [0, max(values)], while in the future they will be determined based on the unique values.\n",
      "If you want the future behaviour and silence this warning, you can specify \"categories='auto'\".\n",
      "In case you used a LabelEncoder before this OneHotEncoder to convert the categories to integers, then you can now use the OneHotEncoder directly.\n",
      "  warnings.warn(msg, FutureWarning)\n",
      "/srv/conda/envs/notebook/lib/python3.7/site-packages/sklearn/preprocessing/_encoders.py:415: FutureWarning: The handling of integer data will change in version 0.22. Currently, the categories are determined based on the range [0, max(values)], while in the future they will be determined based on the unique values.\n",
      "If you want the future behaviour and silence this warning, you can specify \"categories='auto'\".\n",
      "In case you used a LabelEncoder before this OneHotEncoder to convert the categories to integers, then you can now use the OneHotEncoder directly.\n",
      "  warnings.warn(msg, FutureWarning)\n",
      "/srv/conda/envs/notebook/lib/python3.7/site-packages/sklearn/preprocessing/_encoders.py:415: FutureWarning: The handling of integer data will change in version 0.22. Currently, the categories are determined based on the range [0, max(values)], while in the future they will be determined based on the unique values.\n",
      "If you want the future behaviour and silence this warning, you can specify \"categories='auto'\".\n",
      "In case you used a LabelEncoder before this OneHotEncoder to convert the categories to integers, then you can now use the OneHotEncoder directly.\n",
      "  warnings.warn(msg, FutureWarning)\n",
      "/srv/conda/envs/notebook/lib/python3.7/site-packages/sklearn/preprocessing/_encoders.py:415: FutureWarning: The handling of integer data will change in version 0.22. Currently, the categories are determined based on the range [0, max(values)], while in the future they will be determined based on the unique values.\n",
      "If you want the future behaviour and silence this warning, you can specify \"categories='auto'\".\n",
      "In case you used a LabelEncoder before this OneHotEncoder to convert the categories to integers, then you can now use the OneHotEncoder directly.\n",
      "  warnings.warn(msg, FutureWarning)\n",
      "/srv/conda/envs/notebook/lib/python3.7/site-packages/sklearn/preprocessing/_encoders.py:415: FutureWarning: The handling of integer data will change in version 0.22. Currently, the categories are determined based on the range [0, max(values)], while in the future they will be determined based on the unique values.\n",
      "If you want the future behaviour and silence this warning, you can specify \"categories='auto'\".\n",
      "In case you used a LabelEncoder before this OneHotEncoder to convert the categories to integers, then you can now use the OneHotEncoder directly.\n",
      "  warnings.warn(msg, FutureWarning)\n",
      "/srv/conda/envs/notebook/lib/python3.7/site-packages/sklearn/preprocessing/_encoders.py:415: FutureWarning: The handling of integer data will change in version 0.22. Currently, the categories are determined based on the range [0, max(values)], while in the future they will be determined based on the unique values.\n",
      "If you want the future behaviour and silence this warning, you can specify \"categories='auto'\".\n",
      "In case you used a LabelEncoder before this OneHotEncoder to convert the categories to integers, then you can now use the OneHotEncoder directly.\n",
      "  warnings.warn(msg, FutureWarning)\n",
      "/srv/conda/envs/notebook/lib/python3.7/site-packages/sklearn/preprocessing/_encoders.py:415: FutureWarning: The handling of integer data will change in version 0.22. Currently, the categories are determined based on the range [0, max(values)], while in the future they will be determined based on the unique values.\n",
      "If you want the future behaviour and silence this warning, you can specify \"categories='auto'\".\n",
      "In case you used a LabelEncoder before this OneHotEncoder to convert the categories to integers, then you can now use the OneHotEncoder directly.\n",
      "  warnings.warn(msg, FutureWarning)\n",
      "/srv/conda/envs/notebook/lib/python3.7/site-packages/sklearn/preprocessing/_encoders.py:415: FutureWarning: The handling of integer data will change in version 0.22. Currently, the categories are determined based on the range [0, max(values)], while in the future they will be determined based on the unique values.\n",
      "If you want the future behaviour and silence this warning, you can specify \"categories='auto'\".\n",
      "In case you used a LabelEncoder before this OneHotEncoder to convert the categories to integers, then you can now use the OneHotEncoder directly.\n",
      "  warnings.warn(msg, FutureWarning)\n",
      "/srv/conda/envs/notebook/lib/python3.7/site-packages/sklearn/preprocessing/_encoders.py:415: FutureWarning: The handling of integer data will change in version 0.22. Currently, the categories are determined based on the range [0, max(values)], while in the future they will be determined based on the unique values.\n",
      "If you want the future behaviour and silence this warning, you can specify \"categories='auto'\".\n",
      "In case you used a LabelEncoder before this OneHotEncoder to convert the categories to integers, then you can now use the OneHotEncoder directly.\n",
      "  warnings.warn(msg, FutureWarning)\n",
      "/srv/conda/envs/notebook/lib/python3.7/site-packages/sklearn/preprocessing/_encoders.py:415: FutureWarning: The handling of integer data will change in version 0.22. Currently, the categories are determined based on the range [0, max(values)], while in the future they will be determined based on the unique values.\n",
      "If you want the future behaviour and silence this warning, you can specify \"categories='auto'\".\n",
      "In case you used a LabelEncoder before this OneHotEncoder to convert the categories to integers, then you can now use the OneHotEncoder directly.\n",
      "  warnings.warn(msg, FutureWarning)\n",
      "/srv/conda/envs/notebook/lib/python3.7/site-packages/sklearn/preprocessing/_encoders.py:415: FutureWarning: The handling of integer data will change in version 0.22. Currently, the categories are determined based on the range [0, max(values)], while in the future they will be determined based on the unique values.\n",
      "If you want the future behaviour and silence this warning, you can specify \"categories='auto'\".\n",
      "In case you used a LabelEncoder before this OneHotEncoder to convert the categories to integers, then you can now use the OneHotEncoder directly.\n",
      "  warnings.warn(msg, FutureWarning)\n",
      "/srv/conda/envs/notebook/lib/python3.7/site-packages/sklearn/preprocessing/_encoders.py:415: FutureWarning: The handling of integer data will change in version 0.22. Currently, the categories are determined based on the range [0, max(values)], while in the future they will be determined based on the unique values.\n",
      "If you want the future behaviour and silence this warning, you can specify \"categories='auto'\".\n",
      "In case you used a LabelEncoder before this OneHotEncoder to convert the categories to integers, then you can now use the OneHotEncoder directly.\n",
      "  warnings.warn(msg, FutureWarning)\n",
      "/srv/conda/envs/notebook/lib/python3.7/site-packages/sklearn/preprocessing/_encoders.py:415: FutureWarning: The handling of integer data will change in version 0.22. Currently, the categories are determined based on the range [0, max(values)], while in the future they will be determined based on the unique values.\n",
      "If you want the future behaviour and silence this warning, you can specify \"categories='auto'\".\n",
      "In case you used a LabelEncoder before this OneHotEncoder to convert the categories to integers, then you can now use the OneHotEncoder directly.\n",
      "  warnings.warn(msg, FutureWarning)\n",
      "/srv/conda/envs/notebook/lib/python3.7/site-packages/sklearn/preprocessing/_encoders.py:415: FutureWarning: The handling of integer data will change in version 0.22. Currently, the categories are determined based on the range [0, max(values)], while in the future they will be determined based on the unique values.\n",
      "If you want the future behaviour and silence this warning, you can specify \"categories='auto'\".\n",
      "In case you used a LabelEncoder before this OneHotEncoder to convert the categories to integers, then you can now use the OneHotEncoder directly.\n",
      "  warnings.warn(msg, FutureWarning)\n",
      "/srv/conda/envs/notebook/lib/python3.7/site-packages/sklearn/preprocessing/_encoders.py:415: FutureWarning: The handling of integer data will change in version 0.22. Currently, the categories are determined based on the range [0, max(values)], while in the future they will be determined based on the unique values.\n",
      "If you want the future behaviour and silence this warning, you can specify \"categories='auto'\".\n",
      "In case you used a LabelEncoder before this OneHotEncoder to convert the categories to integers, then you can now use the OneHotEncoder directly.\n",
      "  warnings.warn(msg, FutureWarning)\n"
     ]
    }
   ],
   "source": [
    "# Create a new data set where all of the above categorical features will be one-hot encoded\n",
    "from sklearn.preprocessing import OneHotEncoder, LabelEncoder\n",
    "\n",
    "# Copy of the data\n",
    "data_ohc = df_accidents.copy()\n",
    "\n",
    "# The encoders\n",
    "le = LabelEncoder()\n",
    "ohc = OneHotEncoder()\n",
    "\n",
    "for col in num_ohc_cols.index:\n",
    "    \n",
    "    # Integer encode the string categories\n",
    "    dat = le.fit_transform(data_ohc[col]).astype(np.int)\n",
    "    \n",
    "    # Remove the original column from the dataframe\n",
    "    data_ohc = data_ohc.drop(col, axis=1)\n",
    "\n",
    "    # One hot encode the data--this returns a sparse array\n",
    "    new_dat = ohc.fit_transform(dat.reshape(-1,1))\n",
    "\n",
    "    # Create unique column names\n",
    "    n_cols = new_dat.shape[1]\n",
    "    col_names = ['_'.join([col, str(x)]) for x in range(n_cols)]\n",
    "\n",
    "    # Create the new dataframe\n",
    "    new_df = pd.DataFrame(new_dat.toarray(), \n",
    "                          index=data_ohc.index, \n",
    "                          columns=col_names)\n",
    "\n",
    "    # Append the new data to the dataframe\n",
    "    data_ohc = pd.concat([data_ohc, new_df], axis=1)"
   ]
  },
  {
   "cell_type": "code",
   "execution_count": 40,
   "metadata": {},
   "outputs": [
    {
     "data": {
      "text/plain": [
       "107"
      ]
     },
     "execution_count": 40,
     "metadata": {},
     "output_type": "execute_result"
    }
   ],
   "source": [
    "# Column difference is as calculated above\n",
    "data_ohc.shape[1] - df_accidents.shape[1]"
   ]
  },
  {
   "cell_type": "code",
   "execution_count": 41,
   "metadata": {},
   "outputs": [
    {
     "name": "stdout",
     "output_type": "stream",
     "text": [
      "22\n",
      "1\n"
     ]
    }
   ],
   "source": [
    "print(df_accidents.shape[1])\n",
    "\n",
    "# Remove the string columns from the dataframe\n",
    "df_accidents = df_accidents.drop(num_ohc_cols.index, axis=1)\n",
    "\n",
    "print(df_accidents.shape[1])"
   ]
  },
  {
   "cell_type": "code",
   "execution_count": 42,
   "metadata": {},
   "outputs": [],
   "source": [
    "# Create train and test splits of the data set\n",
    "from sklearn.model_selection import train_test_split\n",
    "\n",
    "y_col = 'Victimas'\n",
    "\n",
    "# Split the data that is one-hot encoded\n",
    "feature_cols = [x for x in data_ohc.columns if x != y_col]\n",
    "X_data_ohc = data_ohc[feature_cols]\n",
    "y_data_ohc = data_ohc[y_col]\n",
    "\n",
    "X_train_ohc, X_test_ohc, y_train_ohc, y_test_ohc = train_test_split(X_data_ohc, y_data_ohc, \n",
    "                                                    test_size=0.3, random_state=42)"
   ]
  },
  {
   "cell_type": "code",
   "execution_count": 43,
   "metadata": {},
   "outputs": [
    {
     "data": {
      "text/html": [
       "<div>\n",
       "<style scoped>\n",
       "    .dataframe tbody tr th:only-of-type {\n",
       "        vertical-align: middle;\n",
       "    }\n",
       "\n",
       "    .dataframe tbody tr th {\n",
       "        vertical-align: top;\n",
       "    }\n",
       "\n",
       "    .dataframe thead th {\n",
       "        text-align: right;\n",
       "    }\n",
       "</style>\n",
       "<table border=\"1\" class=\"dataframe\">\n",
       "  <thead>\n",
       "    <tr style=\"text-align: right;\">\n",
       "      <th></th>\n",
       "      <th>Victimas</th>\n",
       "      <th>RANGO HORARIO_0</th>\n",
       "      <th>RANGO HORARIO_1</th>\n",
       "      <th>RANGO HORARIO_2</th>\n",
       "      <th>RANGO HORARIO_3</th>\n",
       "      <th>RANGO HORARIO_4</th>\n",
       "      <th>RANGO HORARIO_5</th>\n",
       "      <th>RANGO HORARIO_6</th>\n",
       "      <th>RANGO HORARIO_7</th>\n",
       "      <th>RANGO HORARIO_8</th>\n",
       "      <th>...</th>\n",
       "      <th>CPSV Barro_0</th>\n",
       "      <th>CPSV Barro_1</th>\n",
       "      <th>CPSV Grava Suelta_0</th>\n",
       "      <th>CPSV Grava Suelta_1</th>\n",
       "      <th>CPSV Hielo_0</th>\n",
       "      <th>CPSV Hielo_1</th>\n",
       "      <th>CPSV Seca Y Limpia_0</th>\n",
       "      <th>CPSV Seca Y Limpia_1</th>\n",
       "      <th>CPSV Aceite_0</th>\n",
       "      <th>CPSV Aceite_1</th>\n",
       "    </tr>\n",
       "  </thead>\n",
       "  <tbody>\n",
       "    <tr>\n",
       "      <th>0</th>\n",
       "      <td>1</td>\n",
       "      <td>1.0</td>\n",
       "      <td>0.0</td>\n",
       "      <td>0.0</td>\n",
       "      <td>0.0</td>\n",
       "      <td>0.0</td>\n",
       "      <td>0.0</td>\n",
       "      <td>0.0</td>\n",
       "      <td>0.0</td>\n",
       "      <td>0.0</td>\n",
       "      <td>...</td>\n",
       "      <td>1.0</td>\n",
       "      <td>0.0</td>\n",
       "      <td>1.0</td>\n",
       "      <td>0.0</td>\n",
       "      <td>1.0</td>\n",
       "      <td>0.0</td>\n",
       "      <td>0.0</td>\n",
       "      <td>1.0</td>\n",
       "      <td>1.0</td>\n",
       "      <td>0.0</td>\n",
       "    </tr>\n",
       "    <tr>\n",
       "      <th>2</th>\n",
       "      <td>1</td>\n",
       "      <td>1.0</td>\n",
       "      <td>0.0</td>\n",
       "      <td>0.0</td>\n",
       "      <td>0.0</td>\n",
       "      <td>0.0</td>\n",
       "      <td>0.0</td>\n",
       "      <td>0.0</td>\n",
       "      <td>0.0</td>\n",
       "      <td>0.0</td>\n",
       "      <td>...</td>\n",
       "      <td>1.0</td>\n",
       "      <td>0.0</td>\n",
       "      <td>1.0</td>\n",
       "      <td>0.0</td>\n",
       "      <td>1.0</td>\n",
       "      <td>0.0</td>\n",
       "      <td>0.0</td>\n",
       "      <td>1.0</td>\n",
       "      <td>1.0</td>\n",
       "      <td>0.0</td>\n",
       "    </tr>\n",
       "    <tr>\n",
       "      <th>7</th>\n",
       "      <td>1</td>\n",
       "      <td>0.0</td>\n",
       "      <td>0.0</td>\n",
       "      <td>0.0</td>\n",
       "      <td>0.0</td>\n",
       "      <td>0.0</td>\n",
       "      <td>0.0</td>\n",
       "      <td>0.0</td>\n",
       "      <td>0.0</td>\n",
       "      <td>0.0</td>\n",
       "      <td>...</td>\n",
       "      <td>1.0</td>\n",
       "      <td>0.0</td>\n",
       "      <td>1.0</td>\n",
       "      <td>0.0</td>\n",
       "      <td>1.0</td>\n",
       "      <td>0.0</td>\n",
       "      <td>0.0</td>\n",
       "      <td>1.0</td>\n",
       "      <td>1.0</td>\n",
       "      <td>0.0</td>\n",
       "    </tr>\n",
       "    <tr>\n",
       "      <th>8</th>\n",
       "      <td>1</td>\n",
       "      <td>0.0</td>\n",
       "      <td>0.0</td>\n",
       "      <td>0.0</td>\n",
       "      <td>0.0</td>\n",
       "      <td>0.0</td>\n",
       "      <td>0.0</td>\n",
       "      <td>0.0</td>\n",
       "      <td>0.0</td>\n",
       "      <td>0.0</td>\n",
       "      <td>...</td>\n",
       "      <td>1.0</td>\n",
       "      <td>0.0</td>\n",
       "      <td>1.0</td>\n",
       "      <td>0.0</td>\n",
       "      <td>1.0</td>\n",
       "      <td>0.0</td>\n",
       "      <td>0.0</td>\n",
       "      <td>1.0</td>\n",
       "      <td>1.0</td>\n",
       "      <td>0.0</td>\n",
       "    </tr>\n",
       "    <tr>\n",
       "      <th>9</th>\n",
       "      <td>1</td>\n",
       "      <td>0.0</td>\n",
       "      <td>0.0</td>\n",
       "      <td>0.0</td>\n",
       "      <td>0.0</td>\n",
       "      <td>0.0</td>\n",
       "      <td>0.0</td>\n",
       "      <td>0.0</td>\n",
       "      <td>0.0</td>\n",
       "      <td>0.0</td>\n",
       "      <td>...</td>\n",
       "      <td>1.0</td>\n",
       "      <td>0.0</td>\n",
       "      <td>1.0</td>\n",
       "      <td>0.0</td>\n",
       "      <td>1.0</td>\n",
       "      <td>0.0</td>\n",
       "      <td>0.0</td>\n",
       "      <td>1.0</td>\n",
       "      <td>1.0</td>\n",
       "      <td>0.0</td>\n",
       "    </tr>\n",
       "  </tbody>\n",
       "</table>\n",
       "<p>5 rows × 129 columns</p>\n",
       "</div>"
      ],
      "text/plain": [
       "   Victimas  RANGO HORARIO_0  RANGO HORARIO_1  RANGO HORARIO_2  \\\n",
       "0         1              1.0              0.0              0.0   \n",
       "2         1              1.0              0.0              0.0   \n",
       "7         1              0.0              0.0              0.0   \n",
       "8         1              0.0              0.0              0.0   \n",
       "9         1              0.0              0.0              0.0   \n",
       "\n",
       "   RANGO HORARIO_3  RANGO HORARIO_4  RANGO HORARIO_5  RANGO HORARIO_6  \\\n",
       "0              0.0              0.0              0.0              0.0   \n",
       "2              0.0              0.0              0.0              0.0   \n",
       "7              0.0              0.0              0.0              0.0   \n",
       "8              0.0              0.0              0.0              0.0   \n",
       "9              0.0              0.0              0.0              0.0   \n",
       "\n",
       "   RANGO HORARIO_7  RANGO HORARIO_8  ...  CPSV Barro_0  CPSV Barro_1  \\\n",
       "0              0.0              0.0  ...           1.0           0.0   \n",
       "2              0.0              0.0  ...           1.0           0.0   \n",
       "7              0.0              0.0  ...           1.0           0.0   \n",
       "8              0.0              0.0  ...           1.0           0.0   \n",
       "9              0.0              0.0  ...           1.0           0.0   \n",
       "\n",
       "   CPSV Grava Suelta_0  CPSV Grava Suelta_1  CPSV Hielo_0  CPSV Hielo_1  \\\n",
       "0                  1.0                  0.0           1.0           0.0   \n",
       "2                  1.0                  0.0           1.0           0.0   \n",
       "7                  1.0                  0.0           1.0           0.0   \n",
       "8                  1.0                  0.0           1.0           0.0   \n",
       "9                  1.0                  0.0           1.0           0.0   \n",
       "\n",
       "   CPSV Seca Y Limpia_0  CPSV Seca Y Limpia_1  CPSV Aceite_0  CPSV Aceite_1  \n",
       "0                   0.0                   1.0            1.0            0.0  \n",
       "2                   0.0                   1.0            1.0            0.0  \n",
       "7                   0.0                   1.0            1.0            0.0  \n",
       "8                   0.0                   1.0            1.0            0.0  \n",
       "9                   0.0                   1.0            1.0            0.0  \n",
       "\n",
       "[5 rows x 129 columns]"
      ]
     },
     "execution_count": 43,
     "metadata": {},
     "output_type": "execute_result"
    }
   ],
   "source": [
    "data_ohc.head(5)"
   ]
  },
  {
   "cell_type": "code",
   "execution_count": 44,
   "metadata": {},
   "outputs": [
    {
     "data": {
      "text/plain": [
       "(26463, 129)"
      ]
     },
     "execution_count": 44,
     "metadata": {},
     "output_type": "execute_result"
    }
   ],
   "source": [
    "data_ohc.shape"
   ]
  },
  {
   "cell_type": "code",
   "execution_count": 45,
   "metadata": {},
   "outputs": [
    {
     "data": {
      "text/plain": [
       "Victimas                  int64\n",
       "RANGO HORARIO_0         float64\n",
       "RANGO HORARIO_1         float64\n",
       "RANGO HORARIO_2         float64\n",
       "RANGO HORARIO_3         float64\n",
       "RANGO HORARIO_4         float64\n",
       "RANGO HORARIO_5         float64\n",
       "RANGO HORARIO_6         float64\n",
       "RANGO HORARIO_7         float64\n",
       "RANGO HORARIO_8         float64\n",
       "RANGO HORARIO_9         float64\n",
       "RANGO HORARIO_10        float64\n",
       "RANGO HORARIO_11        float64\n",
       "RANGO HORARIO_12        float64\n",
       "RANGO HORARIO_13        float64\n",
       "RANGO HORARIO_14        float64\n",
       "RANGO HORARIO_15        float64\n",
       "RANGO HORARIO_16        float64\n",
       "RANGO HORARIO_17        float64\n",
       "RANGO HORARIO_18        float64\n",
       "RANGO HORARIO_19        float64\n",
       "RANGO HORARIO_20        float64\n",
       "RANGO HORARIO_21        float64\n",
       "RANGO HORARIO_22        float64\n",
       "RANGO HORARIO_23        float64\n",
       "DISTRITO_0              float64\n",
       "DISTRITO_1              float64\n",
       "DISTRITO_2              float64\n",
       "DISTRITO_3              float64\n",
       "DISTRITO_4              float64\n",
       "                         ...   \n",
       "TIPO PERSONA_0          float64\n",
       "TIPO PERSONA_1          float64\n",
       "TIPO PERSONA_2          float64\n",
       "SEXO_0                  float64\n",
       "SEXO_1                  float64\n",
       "SEXO_2                  float64\n",
       "CPFA Niebla_0           float64\n",
       "CPFA Niebla_1           float64\n",
       "CPFA Granizo_0          float64\n",
       "CPFA Granizo_1          float64\n",
       "CPFA Hielo_0            float64\n",
       "CPFA Hielo_1            float64\n",
       "CPFA Lluvia_0           float64\n",
       "CPFA Lluvia_1           float64\n",
       "CPFA Nieve_0            float64\n",
       "CPFA Nieve_1            float64\n",
       "CPFA Seco_0             float64\n",
       "CPFA Seco_1             float64\n",
       "CPSV Mojada_0           float64\n",
       "CPSV Mojada_1           float64\n",
       "CPSV Barro_0            float64\n",
       "CPSV Barro_1            float64\n",
       "CPSV Grava Suelta_0     float64\n",
       "CPSV Grava Suelta_1     float64\n",
       "CPSV Hielo_0            float64\n",
       "CPSV Hielo_1            float64\n",
       "CPSV Seca Y Limpia_0    float64\n",
       "CPSV Seca Y Limpia_1    float64\n",
       "CPSV Aceite_0           float64\n",
       "CPSV Aceite_1           float64\n",
       "Length: 129, dtype: object"
      ]
     },
     "execution_count": 45,
     "metadata": {},
     "output_type": "execute_result"
    }
   ],
   "source": [
    "data_ohc.dtypes"
   ]
  },
  {
   "cell_type": "markdown",
   "metadata": {},
   "source": [
    "# Train and test"
   ]
  },
  {
   "cell_type": "code",
   "execution_count": 46,
   "metadata": {},
   "outputs": [
    {
     "data": {
      "text/plain": [
       "[train    1.221186\n",
       " test     1.194478\n",
       " Name: one-hot enc, dtype: float64]"
      ]
     },
     "execution_count": 46,
     "metadata": {},
     "output_type": "execute_result"
    }
   ],
   "source": [
    "from sklearn.linear_model import LinearRegression\n",
    "from sklearn.metrics import mean_squared_error\n",
    "\n",
    "LR = LinearRegression()\n",
    "\n",
    "# Storage for error values\n",
    "error_df = list()\n",
    "\n",
    "LR = LR.fit(X_train_ohc, y_train_ohc)\n",
    "y_train_ohc_pred = LR.predict(X_train_ohc)\n",
    "y_test_ohc_pred = LR.predict(X_test_ohc)\n",
    "\n",
    "error_df.append(pd.Series({'train': mean_squared_error(y_train_ohc, y_train_ohc_pred),\n",
    "                           'test' : mean_squared_error(y_test_ohc,  y_test_ohc_pred)},\n",
    "                          name='one-hot enc'))\n",
    "\n",
    "\n",
    "error_df"
   ]
  },
  {
   "cell_type": "code",
   "execution_count": 47,
   "metadata": {},
   "outputs": [
    {
     "data": {
      "image/png": "[encoded data removed]",
      "text/plain": [
       "<Figure size 432x288 with 1 Axes>"
      ]
     },
     "metadata": {},
     "output_type": "display_data"
    }
   ],
   "source": [
    "import matplotlib.pyplot as plt\n",
    "import seaborn as sns\n",
    "%matplotlib inline\n",
    "\n",
    "\n",
    "sns.set_context('talk')\n",
    "sns.set_style('ticks')\n",
    "sns.set_palette('dark')\n",
    "\n",
    "ax = plt.axes()\n",
    "# we are going to use y_test, y_test_pred\n",
    "ax.scatter(y_test_ohc, y_test_ohc_pred, alpha=.5)\n",
    "\n",
    "ax.set(xlabel='Ground truth', \n",
    "       ylabel='Predictions',\n",
    "       title='Number of casualties per accident Predictions vs Truth, using Linear Regression');"
   ]
  },
  {
   "cell_type": "markdown",
   "metadata": {},
   "source": [
    "# Cross validation"
   ]
  },
  {
   "cell_type": "code",
   "execution_count": 48,
   "metadata": {},
   "outputs": [],
   "source": [
    "from sklearn.preprocessing import StandardScaler, PolynomialFeatures\n",
    "from sklearn.model_selection import KFold, cross_val_predict\n",
    "from sklearn.linear_model import LinearRegression, Lasso, Ridge\n",
    "from sklearn.metrics import r2_score\n",
    "from sklearn.pipeline import Pipeline"
   ]
  },
  {
   "cell_type": "code",
   "execution_count": 49,
   "metadata": {},
   "outputs": [],
   "source": [
    "data_ohc = data_ohc.reset_index()\n",
    "X = data_ohc.drop('Victimas', axis=1)\n",
    "y = data_ohc.Victimas"
   ]
  },
  {
   "cell_type": "code",
   "execution_count": 50,
   "metadata": {},
   "outputs": [],
   "source": [
    "kf = KFold(shuffle=True, random_state=72018, n_splits=3)"
   ]
  },
  {
   "cell_type": "code",
   "execution_count": 51,
   "metadata": {},
   "outputs": [
    {
     "name": "stdout",
     "output_type": "stream",
     "text": [
      "Train index: [ 0  2  4  5  6  8 10 11 12 13] 17642\n",
      "Test index: [ 1  3  7  9 14 17 18 19 20 26] 8821\n",
      "\n",
      "Train index: [ 0  1  2  3  4  7  8  9 10 11] 17642\n",
      "Test index: [ 5  6 16 22 23 24 29 38 41 43] 8821\n",
      "\n",
      "Train index: [ 1  3  5  6  7  9 14 16 17 18] 17642\n",
      "Test index: [ 0  2  4  8 10 11 12 13 15 21] 8821\n",
      "\n"
     ]
    }
   ],
   "source": [
    "for train_index, test_index in kf.split(X):\n",
    "    print(\"Train index:\", train_index[:10], len(train_index))\n",
    "    print(\"Test index:\",test_index[:10], len(test_index))\n",
    "    print('')"
   ]
  },
  {
   "cell_type": "code",
   "execution_count": 52,
   "metadata": {},
   "outputs": [
    {
     "data": {
      "text/plain": [
       "[0.25680219387013503, 0.22645297494653172, 0.25643158986857195]"
      ]
     },
     "execution_count": 52,
     "metadata": {},
     "output_type": "execute_result"
    }
   ],
   "source": [
    "scores = []\n",
    "lr = LinearRegression()\n",
    "\n",
    "for train_index, test_index in kf.split(X):\n",
    "    X_train, X_test, y_train, y_test = (X.iloc[train_index, :], \n",
    "                                        X.iloc[test_index, :], \n",
    "                                        y[train_index], \n",
    "                                        y[test_index])\n",
    "    \n",
    "    lr.fit(X_train, y_train)\n",
    "        \n",
    "    y_pred = lr.predict(X_test)\n",
    "\n",
    "    score = r2_score(y_test.values, y_pred)\n",
    "    \n",
    "    scores.append(score)\n",
    "    \n",
    "scores"
   ]
  },
  {
   "cell_type": "code",
   "execution_count": 53,
   "metadata": {},
   "outputs": [
    {
     "data": {
      "text/plain": [
       "[0.25666920400037796, 0.22649752484204733, 0.2564449533587234]"
      ]
     },
     "execution_count": 53,
     "metadata": {},
     "output_type": "execute_result"
    }
   ],
   "source": [
    "# Scaling\n",
    "scores = []\n",
    "\n",
    "lr = LinearRegression()\n",
    "s = StandardScaler()\n",
    "\n",
    "for train_index, test_index in kf.split(X):\n",
    "    X_train, X_test, y_train, y_test = (X.iloc[train_index, :], \n",
    "                                        X.iloc[test_index, :], \n",
    "                                        y[train_index], \n",
    "                                        y[test_index])\n",
    "    \n",
    "    X_train_s = s.fit_transform(X_train)\n",
    "    \n",
    "    lr.fit(X_train_s, y_train)\n",
    "    \n",
    "    X_test_s = s.transform(X_test)\n",
    "    \n",
    "    y_pred = lr.predict(X_test_s)\n",
    "\n",
    "    score = r2_score(y_test.values, y_pred)\n",
    "    \n",
    "    scores.append(score)\n",
    "    \n",
    "scores"
   ]
  },
  {
   "cell_type": "code",
   "execution_count": 54,
   "metadata": {},
   "outputs": [
    {
     "data": {
      "text/plain": [
       "array([1.e-09, 1.e-08, 1.e-07, 1.e-06, 1.e-05, 1.e-04, 1.e-03, 1.e-02,\n",
       "       1.e-01, 1.e+00])"
      ]
     },
     "execution_count": 54,
     "metadata": {},
     "output_type": "execute_result"
    }
   ],
   "source": [
    "# Hyperparameter tuning\n",
    "alphas = np.geomspace(1e-9, 1e0, num=10)\n",
    "alphas"
   ]
  },
  {
   "cell_type": "code",
   "execution_count": 55,
   "metadata": {},
   "outputs": [
    {
     "name": "stderr",
     "output_type": "stream",
     "text": [
      "/srv/conda/envs/notebook/lib/python3.7/site-packages/sklearn/linear_model/coordinate_descent.py:475: ConvergenceWarning: Objective did not converge. You might want to increase the number of iterations. Duality gap: 10446.101095382655, tolerance: 2.8133928352794486\n",
      "  positive)\n",
      "/srv/conda/envs/notebook/lib/python3.7/site-packages/sklearn/linear_model/coordinate_descent.py:475: ConvergenceWarning: Objective did not converge. You might want to increase the number of iterations. Duality gap: 11724.156668666603, tolerance: 3.1978390261875114\n",
      "  positive)\n",
      "/srv/conda/envs/notebook/lib/python3.7/site-packages/sklearn/linear_model/coordinate_descent.py:475: ConvergenceWarning: Objective did not converge. You might want to increase the number of iterations. Duality gap: 9784.539046474127, tolerance: 2.6332655991384213\n",
      "  positive)\n",
      "/srv/conda/envs/notebook/lib/python3.7/site-packages/sklearn/linear_model/coordinate_descent.py:475: ConvergenceWarning: Objective did not converge. You might want to increase the number of iterations. Duality gap: 10445.818319538785, tolerance: 2.8133928352794486\n",
      "  positive)\n",
      "/srv/conda/envs/notebook/lib/python3.7/site-packages/sklearn/linear_model/coordinate_descent.py:475: ConvergenceWarning: Objective did not converge. You might want to increase the number of iterations. Duality gap: 11723.733794194224, tolerance: 3.1978390261875114\n",
      "  positive)\n",
      "/srv/conda/envs/notebook/lib/python3.7/site-packages/sklearn/linear_model/coordinate_descent.py:475: ConvergenceWarning: Objective did not converge. You might want to increase the number of iterations. Duality gap: 9784.05402565039, tolerance: 2.6332655991384213\n",
      "  positive)\n",
      "/srv/conda/envs/notebook/lib/python3.7/site-packages/sklearn/linear_model/coordinate_descent.py:475: ConvergenceWarning: Objective did not converge. You might want to increase the number of iterations. Duality gap: 10442.990748558957, tolerance: 2.8133928352794486\n",
      "  positive)\n",
      "/srv/conda/envs/notebook/lib/python3.7/site-packages/sklearn/linear_model/coordinate_descent.py:475: ConvergenceWarning: Objective did not converge. You might want to increase the number of iterations. Duality gap: 11719.505397888512, tolerance: 3.1978390261875114\n",
      "  positive)\n",
      "/srv/conda/envs/notebook/lib/python3.7/site-packages/sklearn/linear_model/coordinate_descent.py:475: ConvergenceWarning: Objective did not converge. You might want to increase the number of iterations. Duality gap: 9779.20463265048, tolerance: 2.6332655991384213\n",
      "  positive)\n",
      "/srv/conda/envs/notebook/lib/python3.7/site-packages/sklearn/linear_model/coordinate_descent.py:475: ConvergenceWarning: Objective did not converge. You might want to increase the number of iterations. Duality gap: 10414.733708555485, tolerance: 2.8133928352794486\n",
      "  positive)\n",
      "/srv/conda/envs/notebook/lib/python3.7/site-packages/sklearn/linear_model/coordinate_descent.py:475: ConvergenceWarning: Objective did not converge. You might want to increase the number of iterations. Duality gap: 11677.256162107524, tolerance: 3.1978390261875114\n",
      "  positive)\n",
      "/srv/conda/envs/notebook/lib/python3.7/site-packages/sklearn/linear_model/coordinate_descent.py:475: ConvergenceWarning: Objective did not converge. You might want to increase the number of iterations. Duality gap: 9730.792179070726, tolerance: 2.6332655991384213\n",
      "  positive)\n",
      "/srv/conda/envs/notebook/lib/python3.7/site-packages/sklearn/linear_model/coordinate_descent.py:475: ConvergenceWarning: Objective did not converge. You might want to increase the number of iterations. Duality gap: 10134.04506436802, tolerance: 2.8133928352794486\n",
      "  positive)\n",
      "/srv/conda/envs/notebook/lib/python3.7/site-packages/sklearn/linear_model/coordinate_descent.py:475: ConvergenceWarning: Objective did not converge. You might want to increase the number of iterations. Duality gap: 11258.243943473386, tolerance: 3.1978390261875114\n",
      "  positive)\n",
      "/srv/conda/envs/notebook/lib/python3.7/site-packages/sklearn/linear_model/coordinate_descent.py:475: ConvergenceWarning: Objective did not converge. You might want to increase the number of iterations. Duality gap: 9254.696910686887, tolerance: 2.6332655991384213\n",
      "  positive)\n",
      "/srv/conda/envs/notebook/lib/python3.7/site-packages/sklearn/linear_model/coordinate_descent.py:475: ConvergenceWarning: Objective did not converge. You might want to increase the number of iterations. Duality gap: 7511.083372247256, tolerance: 2.8133928352794486\n",
      "  positive)\n",
      "/srv/conda/envs/notebook/lib/python3.7/site-packages/sklearn/linear_model/coordinate_descent.py:475: ConvergenceWarning: Objective did not converge. You might want to increase the number of iterations. Duality gap: 7417.127742636004, tolerance: 3.1978390261875114\n",
      "  positive)\n",
      "/srv/conda/envs/notebook/lib/python3.7/site-packages/sklearn/linear_model/coordinate_descent.py:475: ConvergenceWarning: Objective did not converge. You might want to increase the number of iterations. Duality gap: 5249.163075176156, tolerance: 2.6332655991384213\n",
      "  positive)\n",
      "/srv/conda/envs/notebook/lib/python3.7/site-packages/sklearn/linear_model/coordinate_descent.py:475: ConvergenceWarning: Objective did not converge. You might want to increase the number of iterations. Duality gap: 196.61374671946032, tolerance: 2.8133928352794486\n",
      "  positive)\n",
      "/srv/conda/envs/notebook/lib/python3.7/site-packages/sklearn/linear_model/coordinate_descent.py:475: ConvergenceWarning: Objective did not converge. You might want to increase the number of iterations. Duality gap: 216.71316053039118, tolerance: 3.1978390261875114\n",
      "  positive)\n",
      "/srv/conda/envs/notebook/lib/python3.7/site-packages/sklearn/linear_model/coordinate_descent.py:475: ConvergenceWarning: Objective did not converge. You might want to increase the number of iterations. Duality gap: 54.66709846902813, tolerance: 2.6332655991384213\n",
      "  positive)\n",
      "/srv/conda/envs/notebook/lib/python3.7/site-packages/sklearn/linear_model/coordinate_descent.py:475: ConvergenceWarning: Objective did not converge. You might want to increase the number of iterations. Duality gap: 2.8198791653521766, tolerance: 2.8133928352794486\n",
      "  positive)\n",
      "/srv/conda/envs/notebook/lib/python3.7/site-packages/sklearn/linear_model/coordinate_descent.py:475: ConvergenceWarning: Objective did not converge. You might want to increase the number of iterations. Duality gap: 15.96001257185344, tolerance: 3.1978390261875114\n",
      "  positive)\n",
      "/srv/conda/envs/notebook/lib/python3.7/site-packages/sklearn/linear_model/coordinate_descent.py:475: ConvergenceWarning: Objective did not converge. You might want to increase the number of iterations. Duality gap: 5.80245008197744, tolerance: 2.6332655991384213\n",
      "  positive)\n"
     ]
    }
   ],
   "source": [
    "scores = []\n",
    "coefs = []\n",
    "for alpha in alphas:\n",
    "    las = Lasso(alpha=alpha, max_iter=100)\n",
    "    \n",
    "    estimator = Pipeline([\n",
    "        (\"scaler\", s),\n",
    "        (\"lasso_regression\", las)])\n",
    "\n",
    "    predictions = cross_val_predict(estimator, X, y, cv = kf)\n",
    "    \n",
    "    score = r2_score(y, predictions)\n",
    "    \n",
    "    scores.append(score)"
   ]
  },
  {
   "cell_type": "code",
   "execution_count": 56,
   "metadata": {},
   "outputs": [
    {
     "data": {
      "text/plain": [
       "[(1e-09, 0.24887118802440888),\n",
       " (1e-08, 0.24887118886983872),\n",
       " (1e-07, 0.24887119732212748),\n",
       " (1e-06, 0.2488712816618286),\n",
       " (1e-05, 0.2488723038377859),\n",
       " (0.0001, 0.24887619113517923),\n",
       " (0.001, 0.24887174362252773),\n",
       " (0.01, 0.24633063661194332),\n",
       " (0.1, 0.1788869330665105),\n",
       " (1.0, -0.00017640843345367863)]"
      ]
     },
     "execution_count": 56,
     "metadata": {},
     "output_type": "execute_result"
    }
   ],
   "source": [
    "list(zip(alphas,scores))"
   ]
  },
  {
   "cell_type": "code",
   "execution_count": 57,
   "metadata": {},
   "outputs": [
    {
     "name": "stderr",
     "output_type": "stream",
     "text": [
      "/srv/conda/envs/notebook/lib/python3.7/site-packages/sklearn/linear_model/coordinate_descent.py:475: ConvergenceWarning: Objective did not converge. You might want to increase the number of iterations. Duality gap: 5449.1988061074935, tolerance: 4.322401231908705\n",
      "  positive)\n"
     ]
    },
    {
     "data": {
      "text/plain": [
       "array([ 1.36341033e-06,  1.05666359e-01,  1.89363047e-03, -1.19331324e-01,\n",
       "       -3.90787029e-02, -1.20170343e-01,  9.33688623e-02,  4.56393768e-02,\n",
       "       -9.64661739e-02,  6.05335791e-02, -5.52274578e-02, -4.87164983e-02,\n",
       "        8.61944334e-02,  1.23820276e-02,  1.58445942e-01,  4.76525392e-03,\n",
       "       -4.15339221e-02,  6.78115921e-01, -1.01043396e-01,  4.58220940e-03,\n",
       "        1.56892609e-01,  2.25412728e-01, -1.11824921e-01, -7.72288935e-02,\n",
       "       -1.58455522e-01,  1.09692472e-02, -7.08815978e-02,  1.01549916e-01,\n",
       "        3.99628916e-02, -7.75539642e-02, -3.40424699e-03, -6.36147745e-02,\n",
       "       -7.96436127e-02, -8.19901828e-02, -1.25652587e-02,  2.16759315e-02,\n",
       "       -2.87228629e-02,  1.82118481e-01, -1.34283539e-01,  6.09983976e-02,\n",
       "        1.42108063e-02,  6.71501452e-02,  1.36944544e-02, -4.84995060e-02,\n",
       "       -3.71243868e-02, -1.98084833e-02,  1.23822641e-01,  1.07644366e-01,\n",
       "        1.45941880e-01,  1.22605201e-01,  3.60671312e-02,  1.37842624e-02,\n",
       "        4.90262060e-04, -5.37269708e-03, -9.64365647e-03,  1.86330345e-03,\n",
       "        1.66149595e-02, -9.92548779e-04,  4.53747199e-01,  5.22706956e-03,\n",
       "       -2.79796855e-02,  5.77146711e-03, -1.52774779e-01, -1.98721321e-01,\n",
       "        3.70356813e-01,  1.25506173e-01,  1.65767781e+00, -4.53421490e-01,\n",
       "        1.87770595e-01, -6.27939910e-01,  7.23441863e-02, -5.71800896e-01,\n",
       "       -2.72989511e-01,  8.96586476e-02,  5.93589809e-02, -3.78795270e-01,\n",
       "       -2.05679760e-01, -3.81182377e-01, -2.09134518e-01, -1.97566948e-01,\n",
       "       -1.12014425e-01,  7.74212182e-01, -3.38581687e-01, -8.34724717e-02,\n",
       "        2.77935955e-01, -4.39481832e-01, -5.27817015e-01,  1.13705155e-01,\n",
       "       -1.03237781e-01, -4.71440561e-02, -2.33480722e-02,  0.00000000e+00,\n",
       "        3.66315582e-02,  1.81012968e-02,  6.91560234e-01,  6.53860836e-01,\n",
       "       -9.68312032e-02,  9.45224735e-01,  1.81559981e-01, -3.28899727e-01,\n",
       "       -4.60143661e-01,  1.44902762e-01, -1.24731028e-02, -3.26815897e-02,\n",
       "        1.74596314e-01,  2.77190973e-01, -8.92972255e-15,  4.07421817e-02,\n",
       "       -1.42622396e-14,  5.94159282e-01, -5.66233171e-14,  5.87236634e-01,\n",
       "       -0.00000000e+00,  3.96909696e-01, -2.93573144e-15,  3.97649520e-01,\n",
       "       -0.00000000e+00, -1.11109756e-01,  0.00000000e+00, -2.02544841e-01,\n",
       "        1.00690060e-16, -1.88302099e-01,  9.65636074e-16, -1.82787680e-01,\n",
       "        0.00000000e+00, -5.65930170e-03,  8.75726217e-19, -1.36780829e-01,\n",
       "        1.65170311e-14])"
      ]
     },
     "execution_count": 57,
     "metadata": {},
     "output_type": "execute_result"
    }
   ],
   "source": [
    "Lasso(alpha=1e-6).fit(X, y).coef_"
   ]
  },
  {
   "cell_type": "code",
   "execution_count": 58,
   "metadata": {},
   "outputs": [
    {
     "data": {
      "text/plain": [
       "array([ 8.05734695e-07,  0.00000000e+00, -0.00000000e+00, -0.00000000e+00,\n",
       "       -0.00000000e+00, -0.00000000e+00,  0.00000000e+00,  0.00000000e+00,\n",
       "       -0.00000000e+00,  0.00000000e+00, -0.00000000e+00, -0.00000000e+00,\n",
       "        0.00000000e+00, -0.00000000e+00,  0.00000000e+00, -0.00000000e+00,\n",
       "       -0.00000000e+00,  0.00000000e+00, -0.00000000e+00,  0.00000000e+00,\n",
       "        0.00000000e+00,  0.00000000e+00, -0.00000000e+00, -0.00000000e+00,\n",
       "       -0.00000000e+00,  0.00000000e+00, -0.00000000e+00,  0.00000000e+00,\n",
       "       -0.00000000e+00, -0.00000000e+00, -0.00000000e+00, -0.00000000e+00,\n",
       "       -0.00000000e+00, -0.00000000e+00,  0.00000000e+00,  0.00000000e+00,\n",
       "       -0.00000000e+00,  0.00000000e+00, -0.00000000e+00,  0.00000000e+00,\n",
       "        0.00000000e+00,  0.00000000e+00,  0.00000000e+00, -0.00000000e+00,\n",
       "       -0.00000000e+00,  0.00000000e+00,  0.00000000e+00,  0.00000000e+00,\n",
       "        0.00000000e+00,  0.00000000e+00,  0.00000000e+00, -0.00000000e+00,\n",
       "       -0.00000000e+00, -0.00000000e+00, -0.00000000e+00, -0.00000000e+00,\n",
       "       -0.00000000e+00, -0.00000000e+00,  0.00000000e+00, -0.00000000e+00,\n",
       "        0.00000000e+00,  0.00000000e+00,  0.00000000e+00, -0.00000000e+00,\n",
       "        0.00000000e+00,  0.00000000e+00,  0.00000000e+00, -0.00000000e+00,\n",
       "       -0.00000000e+00, -0.00000000e+00, -0.00000000e+00, -0.00000000e+00,\n",
       "       -0.00000000e+00,  0.00000000e+00,  0.00000000e+00, -0.00000000e+00,\n",
       "       -0.00000000e+00, -0.00000000e+00, -0.00000000e+00, -0.00000000e+00,\n",
       "        0.00000000e+00,  0.00000000e+00, -0.00000000e+00,  0.00000000e+00,\n",
       "        0.00000000e+00, -0.00000000e+00, -0.00000000e+00,  0.00000000e+00,\n",
       "       -0.00000000e+00, -0.00000000e+00, -0.00000000e+00, -0.00000000e+00,\n",
       "        0.00000000e+00,  0.00000000e+00, -0.00000000e+00,  0.00000000e+00,\n",
       "       -0.00000000e+00,  0.00000000e+00, -0.00000000e+00, -0.00000000e+00,\n",
       "       -0.00000000e+00,  0.00000000e+00, -0.00000000e+00,  0.00000000e+00,\n",
       "       -0.00000000e+00, -0.00000000e+00,  0.00000000e+00,  0.00000000e+00,\n",
       "       -0.00000000e+00,  0.00000000e+00, -0.00000000e+00,  0.00000000e+00,\n",
       "       -0.00000000e+00,  0.00000000e+00, -0.00000000e+00, -0.00000000e+00,\n",
       "        0.00000000e+00,  0.00000000e+00, -0.00000000e+00, -0.00000000e+00,\n",
       "        0.00000000e+00,  0.00000000e+00, -0.00000000e+00, -0.00000000e+00,\n",
       "        0.00000000e+00, -0.00000000e+00,  0.00000000e+00,  0.00000000e+00,\n",
       "       -0.00000000e+00])"
      ]
     },
     "execution_count": 58,
     "metadata": {},
     "output_type": "execute_result"
    }
   ],
   "source": [
    "Lasso(alpha=1.0).fit(X, y).coef_"
   ]
  },
  {
   "cell_type": "code",
   "execution_count": 59,
   "metadata": {},
   "outputs": [
    {
     "data": {
      "image/png": "[encoded data removed]",
      "text/plain": [
       "<Figure size 720x432 with 1 Axes>"
      ]
     },
     "metadata": {},
     "output_type": "display_data"
    }
   ],
   "source": [
    "plt.figure(figsize=(10,6))\n",
    "plt.semilogx(alphas, scores, '-o')\n",
    "plt.xlabel('$\\\\alpha$')\n",
    "plt.ylabel('$R^2$');"
   ]
  },
  {
   "cell_type": "code",
   "execution_count": null,
   "metadata": {},
   "outputs": [],
   "source": [
    "# PolynomialFeatures\n",
    "\n",
    "pf = PolynomialFeatures(degree=3)\n",
    "\n",
    "scores = []\n",
    "alphas = np.geomspace(0.06, 6.0, 20)\n",
    "for alpha in alphas:\n",
    "    las = Lasso(alpha=alpha, max_iter=100)\n",
    "    \n",
    "    estimator = Pipeline([\n",
    "        (\"scaler\", s),\n",
    "        (\"make_higher_degree\", pf),\n",
    "        (\"lasso_regression\", las)])\n",
    "\n",
    "    predictions = cross_val_predict(estimator, X, y, cv = kf)\n",
    "    \n",
    "    score = r2_score(y, predictions)\n",
    "    \n",
    "    scores.append(score)"
   ]
  },
  {
   "cell_type": "code",
   "execution_count": null,
   "metadata": {},
   "outputs": [],
   "source": [
    "plt.semilogx(alphas, scores);"
   ]
  },
  {
   "cell_type": "code",
   "execution_count": null,
   "metadata": {},
   "outputs": [],
   "source": [
    "# Once we have found the hyperparameter (alpha~1e-2=0.01)\n",
    "# make the model and train it on ALL the data\n",
    "# Then release it into the wild .....\n",
    "best_estimator = Pipeline([\n",
    "                    (\"scaler\", s),\n",
    "                    (\"make_higher_degree\", PolynomialFeatures(degree=2)),\n",
    "                    (\"lasso_regression\", Lasso(alpha=0.03))])\n",
    "\n",
    "best_estimator.fit(X, y)\n",
    "best_estimator.score(X, y)"
   ]
  },
  {
   "cell_type": "code",
   "execution_count": null,
   "metadata": {},
   "outputs": [],
   "source": []
  }
 ],
 "metadata": {
  "kernelspec": {
   "display_name": "Python 3",
   "language": "python",
   "name": "python3"
  },
  "language_info": {
   "codemirror_mode": {
    "name": "ipython",
    "version": 3
   },
   "file_extension": ".py",
   "mimetype": "text/x-python",
   "name": "python",
   "nbconvert_exporter": "python",
   "pygments_lexer": "ipython3",
   "version": "3.7.8"
  }
 },
 "nbformat": 4,
 "nbformat_minor": 4
}
